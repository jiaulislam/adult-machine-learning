{
 "cells": [
  {
   "cell_type": "markdown",
   "id": "b5ea8692",
   "metadata": {},
   "source": [
    "# GROUP 6\n",
    "\n",
    "## Group Members\n",
    "\n",
    "   * **K M JIAUL ISLAM JIBON (L)     -> 21190201123**\n",
    "   * RATNA KHATUN              -> 21190201158\n",
    "   * MD EKRAM                  -> 21190201179\n",
    "   * SHIKHA AKTER              -> 21180300975\n",
    "   * MD NOBEL RANA NELOY       -> 21190201160\n",
    "   * MD TANVIR ISLAM           -> 21180300995\n",
    "    \n",
    "# High Salary Prediction using Machine Learning\n",
    "    \n",
    "The purpose of this project is to use data transformation and machine learning to create a model that will predict a high salary when given sex, education, marital status etc.\n",
    "The data for this model is fairly simplified as it has very few missing pieces. The raw data consists of a training dataset with the features listed above and their corresponding salaries.\n",
    "\n",
    "\n",
    "This model can be used as a guide when determining salaries since it shows reasonable predictions when given information varioud fields like workclass, education, marital.status, etc.\n",
    "\n",
    "## Objectives\n",
    "We will try to build a machine learning model to accurately predict whether or not the salary of a category person salary is high or not?\n",
    "\n",
    "\n",
    "><font color=black>__Methods Used__</font>\n",
    "\n",
    "        -Data Analysis and Visualization\n",
    "        -Linear Regression\n",
    "        -Polynomial Transformation\n",
    "        -Decision Tree\n",
    "        -Random Forest\n",
    "\n",
    "><font color=black>__Technologies/Libraries Used__</font>\n",
    "\n",
    "        1.Python 3\n",
    "        2.Pandas\n",
    "        3.NumPy\n",
    "        4.Seaborn\n",
    "        5.Scikit-learn\n",
    "        6.Matplotlib\n",
    "        7.Jupyter\n",
    "        \n",
    "><font color=black>__Dataset Name:__</font>\n",
    "\n",
    "        - adult.csv\n",
    "        \n",
    "## Details about the dataset:\n",
    "\n",
    "The datasets consists of several medical predictor variables and one target variable, `High income`. Predictor variables includes the number of high or low salary based on `age`, `workclass`, `education`, `marital.status` and so on.\n",
    "\n",
    "\n",
    "- **age**: continuous.\n",
    "- **workclass**: Private, Self-emp-not-inc, Self-emp-inc, Federal-gov, Local-gov, State-gov, Without-pay, Never-worked.\n",
    "- **fnlwgt**: continuous.\n",
    "- **education**: Bachelors, Some-college, 11th, HS-grad, Prof-school, Assoc-acdm, Assoc-voc, 9th, 7th-8th, 12th, Masters, 1st-4th, 10th, Doctorate, 5th-6th, Preschool.\n",
    "- **education-num**: continuous.\n",
    "- **marital-status**: Married-civ-spouse, Divorced, Never-married, Separated, Widowed, Married-spouse-absent, Married-AF-spouse.\n",
    "- **occupation**: Tech-support, Craft-repair, Other-service, Sales, Exec-managerial, Prof-specialty, Handlers-cleaners, Machine-op-inspct, Adm-clerical, Farming-fishing, Transport-moving, Priv-house-serv, Protective-serv, Armed-Forces.\n",
    "- **relationship**: Wife, Own-child, Husband, Not-in-family, Other-relative, Unmarried.\n",
    "- **race**: White, Asian-Pac-Islander, Amer-Indian-Eskimo, Other, Black.\n",
    "- **sex**: Female, Male.\n",
    "- **capital-gain**: continuous.\n",
    "- **capital-loss**: continuous.\n",
    "- **hours-per-week**: continuous.\n",
    "- **High income**: Class Variable(0,1)\n",
    "\n",
    "**Number of Observation Units: 32561**\n",
    "\n",
    "**Variable Number: 14**\n",
    "\n",
    "**GitHub Link**: [Adult-Machine-Learning](https://github.com/jiaulislam/adult-machine-learning)"
   ]
  },
  {
   "cell_type": "markdown",
   "id": "8ea4456e",
   "metadata": {},
   "source": [
    "# Import Libraries and Load Data set"
   ]
  },
  {
   "cell_type": "code",
   "execution_count": 1,
   "id": "9e1b59e6",
   "metadata": {},
   "outputs": [],
   "source": [
    "import pandas as pd\n",
    "import numpy as np\n",
    "import seaborn as sns\n",
    "import matplotlib.pyplot as plt"
   ]
  },
  {
   "cell_type": "code",
   "execution_count": 2,
   "id": "1e4b4d64",
   "metadata": {},
   "outputs": [],
   "source": [
    "df = pd.read_csv('adult.csv')"
   ]
  },
  {
   "cell_type": "code",
   "execution_count": 3,
   "id": "fc2a6c22",
   "metadata": {
    "scrolled": true
   },
   "outputs": [
    {
     "data": {
      "text/html": [
       "<div>\n",
       "<style scoped>\n",
       "    .dataframe tbody tr th:only-of-type {\n",
       "        vertical-align: middle;\n",
       "    }\n",
       "\n",
       "    .dataframe tbody tr th {\n",
       "        vertical-align: top;\n",
       "    }\n",
       "\n",
       "    .dataframe thead th {\n",
       "        text-align: right;\n",
       "    }\n",
       "</style>\n",
       "<table border=\"1\" class=\"dataframe\">\n",
       "  <thead>\n",
       "    <tr style=\"text-align: right;\">\n",
       "      <th></th>\n",
       "      <th>age</th>\n",
       "      <th>workclass</th>\n",
       "      <th>fnlwgt</th>\n",
       "      <th>education</th>\n",
       "      <th>education.num</th>\n",
       "      <th>marital.status</th>\n",
       "      <th>occupation</th>\n",
       "      <th>relationship</th>\n",
       "      <th>race</th>\n",
       "      <th>sex</th>\n",
       "      <th>capital.gain</th>\n",
       "      <th>capital.loss</th>\n",
       "      <th>hours.per.week</th>\n",
       "      <th>High income</th>\n",
       "    </tr>\n",
       "  </thead>\n",
       "  <tbody>\n",
       "    <tr>\n",
       "      <th>0</th>\n",
       "      <td>90</td>\n",
       "      <td>?</td>\n",
       "      <td>77053</td>\n",
       "      <td>HS-grad</td>\n",
       "      <td>9</td>\n",
       "      <td>Widowed</td>\n",
       "      <td>?</td>\n",
       "      <td>Not-in-family</td>\n",
       "      <td>White</td>\n",
       "      <td>Female</td>\n",
       "      <td>0</td>\n",
       "      <td>4356</td>\n",
       "      <td>40</td>\n",
       "      <td>0</td>\n",
       "    </tr>\n",
       "    <tr>\n",
       "      <th>1</th>\n",
       "      <td>82</td>\n",
       "      <td>Private</td>\n",
       "      <td>132870</td>\n",
       "      <td>HS-grad</td>\n",
       "      <td>9</td>\n",
       "      <td>Widowed</td>\n",
       "      <td>Exec-managerial</td>\n",
       "      <td>Not-in-family</td>\n",
       "      <td>White</td>\n",
       "      <td>Female</td>\n",
       "      <td>0</td>\n",
       "      <td>4356</td>\n",
       "      <td>18</td>\n",
       "      <td>0</td>\n",
       "    </tr>\n",
       "    <tr>\n",
       "      <th>2</th>\n",
       "      <td>66</td>\n",
       "      <td>?</td>\n",
       "      <td>186061</td>\n",
       "      <td>Some-college</td>\n",
       "      <td>10</td>\n",
       "      <td>Widowed</td>\n",
       "      <td>?</td>\n",
       "      <td>Unmarried</td>\n",
       "      <td>Black</td>\n",
       "      <td>Female</td>\n",
       "      <td>0</td>\n",
       "      <td>4356</td>\n",
       "      <td>40</td>\n",
       "      <td>0</td>\n",
       "    </tr>\n",
       "    <tr>\n",
       "      <th>3</th>\n",
       "      <td>54</td>\n",
       "      <td>Private</td>\n",
       "      <td>140359</td>\n",
       "      <td>7th-8th</td>\n",
       "      <td>4</td>\n",
       "      <td>Divorced</td>\n",
       "      <td>Machine-op-inspct</td>\n",
       "      <td>Unmarried</td>\n",
       "      <td>White</td>\n",
       "      <td>Female</td>\n",
       "      <td>0</td>\n",
       "      <td>3900</td>\n",
       "      <td>40</td>\n",
       "      <td>0</td>\n",
       "    </tr>\n",
       "    <tr>\n",
       "      <th>4</th>\n",
       "      <td>41</td>\n",
       "      <td>Private</td>\n",
       "      <td>264663</td>\n",
       "      <td>Some-college</td>\n",
       "      <td>10</td>\n",
       "      <td>Separated</td>\n",
       "      <td>Prof-specialty</td>\n",
       "      <td>Own-child</td>\n",
       "      <td>White</td>\n",
       "      <td>Female</td>\n",
       "      <td>0</td>\n",
       "      <td>3900</td>\n",
       "      <td>40</td>\n",
       "      <td>0</td>\n",
       "    </tr>\n",
       "    <tr>\n",
       "      <th>5</th>\n",
       "      <td>34</td>\n",
       "      <td>Private</td>\n",
       "      <td>216864</td>\n",
       "      <td>HS-grad</td>\n",
       "      <td>9</td>\n",
       "      <td>Divorced</td>\n",
       "      <td>Other-service</td>\n",
       "      <td>Unmarried</td>\n",
       "      <td>White</td>\n",
       "      <td>Female</td>\n",
       "      <td>0</td>\n",
       "      <td>3770</td>\n",
       "      <td>45</td>\n",
       "      <td>0</td>\n",
       "    </tr>\n",
       "    <tr>\n",
       "      <th>6</th>\n",
       "      <td>38</td>\n",
       "      <td>Private</td>\n",
       "      <td>150601</td>\n",
       "      <td>10th</td>\n",
       "      <td>6</td>\n",
       "      <td>Separated</td>\n",
       "      <td>Adm-clerical</td>\n",
       "      <td>Unmarried</td>\n",
       "      <td>White</td>\n",
       "      <td>Male</td>\n",
       "      <td>0</td>\n",
       "      <td>3770</td>\n",
       "      <td>40</td>\n",
       "      <td>0</td>\n",
       "    </tr>\n",
       "    <tr>\n",
       "      <th>7</th>\n",
       "      <td>74</td>\n",
       "      <td>State-gov</td>\n",
       "      <td>88638</td>\n",
       "      <td>Doctorate</td>\n",
       "      <td>16</td>\n",
       "      <td>Never-married</td>\n",
       "      <td>Prof-specialty</td>\n",
       "      <td>Other-relative</td>\n",
       "      <td>White</td>\n",
       "      <td>Female</td>\n",
       "      <td>0</td>\n",
       "      <td>3683</td>\n",
       "      <td>20</td>\n",
       "      <td>1</td>\n",
       "    </tr>\n",
       "    <tr>\n",
       "      <th>8</th>\n",
       "      <td>68</td>\n",
       "      <td>Federal-gov</td>\n",
       "      <td>422013</td>\n",
       "      <td>HS-grad</td>\n",
       "      <td>9</td>\n",
       "      <td>Divorced</td>\n",
       "      <td>Prof-specialty</td>\n",
       "      <td>Not-in-family</td>\n",
       "      <td>White</td>\n",
       "      <td>Female</td>\n",
       "      <td>0</td>\n",
       "      <td>3683</td>\n",
       "      <td>40</td>\n",
       "      <td>0</td>\n",
       "    </tr>\n",
       "    <tr>\n",
       "      <th>9</th>\n",
       "      <td>41</td>\n",
       "      <td>Private</td>\n",
       "      <td>70037</td>\n",
       "      <td>Some-college</td>\n",
       "      <td>10</td>\n",
       "      <td>Never-married</td>\n",
       "      <td>Craft-repair</td>\n",
       "      <td>Unmarried</td>\n",
       "      <td>White</td>\n",
       "      <td>Male</td>\n",
       "      <td>0</td>\n",
       "      <td>3004</td>\n",
       "      <td>60</td>\n",
       "      <td>1</td>\n",
       "    </tr>\n",
       "  </tbody>\n",
       "</table>\n",
       "</div>"
      ],
      "text/plain": [
       "   age    workclass  fnlwgt     education  education.num marital.status  \\\n",
       "0   90            ?   77053       HS-grad              9        Widowed   \n",
       "1   82      Private  132870       HS-grad              9        Widowed   \n",
       "2   66            ?  186061  Some-college             10        Widowed   \n",
       "3   54      Private  140359       7th-8th              4       Divorced   \n",
       "4   41      Private  264663  Some-college             10      Separated   \n",
       "5   34      Private  216864       HS-grad              9       Divorced   \n",
       "6   38      Private  150601          10th              6      Separated   \n",
       "7   74    State-gov   88638     Doctorate             16  Never-married   \n",
       "8   68  Federal-gov  422013       HS-grad              9       Divorced   \n",
       "9   41      Private   70037  Some-college             10  Never-married   \n",
       "\n",
       "          occupation    relationship   race     sex  capital.gain  \\\n",
       "0                  ?   Not-in-family  White  Female             0   \n",
       "1    Exec-managerial   Not-in-family  White  Female             0   \n",
       "2                  ?       Unmarried  Black  Female             0   \n",
       "3  Machine-op-inspct       Unmarried  White  Female             0   \n",
       "4     Prof-specialty       Own-child  White  Female             0   \n",
       "5      Other-service       Unmarried  White  Female             0   \n",
       "6       Adm-clerical       Unmarried  White    Male             0   \n",
       "7     Prof-specialty  Other-relative  White  Female             0   \n",
       "8     Prof-specialty   Not-in-family  White  Female             0   \n",
       "9       Craft-repair       Unmarried  White    Male             0   \n",
       "\n",
       "   capital.loss  hours.per.week  High income  \n",
       "0          4356              40            0  \n",
       "1          4356              18            0  \n",
       "2          4356              40            0  \n",
       "3          3900              40            0  \n",
       "4          3900              40            0  \n",
       "5          3770              45            0  \n",
       "6          3770              40            0  \n",
       "7          3683              20            1  \n",
       "8          3683              40            0  \n",
       "9          3004              60            1  "
      ]
     },
     "execution_count": 3,
     "metadata": {},
     "output_type": "execute_result"
    }
   ],
   "source": [
    "df.head(10)"
   ]
  },
  {
   "cell_type": "markdown",
   "id": "2db92322",
   "metadata": {},
   "source": [
    "# Exploratory Data Analysis (Pre Phase)"
   ]
  },
  {
   "cell_type": "code",
   "execution_count": 4,
   "id": "224fbbab",
   "metadata": {},
   "outputs": [
    {
     "data": {
      "text/plain": [
       "(32561, 14)"
      ]
     },
     "execution_count": 4,
     "metadata": {},
     "output_type": "execute_result"
    }
   ],
   "source": [
    "df.shape"
   ]
  },
  {
   "cell_type": "code",
   "execution_count": 5,
   "id": "bbb552a1",
   "metadata": {},
   "outputs": [
    {
     "data": {
      "text/plain": [
       "age                  73\n",
       "workclass             9\n",
       "fnlwgt            21648\n",
       "education            16\n",
       "education.num        16\n",
       "marital.status        7\n",
       "occupation           15\n",
       "relationship          6\n",
       "race                  5\n",
       "sex                   2\n",
       "capital.gain        119\n",
       "capital.loss         92\n",
       "hours.per.week       94\n",
       "High income           2\n",
       "dtype: int64"
      ]
     },
     "execution_count": 5,
     "metadata": {},
     "output_type": "execute_result"
    }
   ],
   "source": [
    "# Look for each unique value in each column/features\n",
    "df.nunique()"
   ]
  },
  {
   "cell_type": "code",
   "execution_count": 6,
   "id": "e41dd859",
   "metadata": {
    "scrolled": true
   },
   "outputs": [
    {
     "data": {
      "text/plain": [
       "age                int64\n",
       "workclass         object\n",
       "fnlwgt             int64\n",
       "education         object\n",
       "education.num      int64\n",
       "marital.status    object\n",
       "occupation        object\n",
       "relationship      object\n",
       "race              object\n",
       "sex               object\n",
       "capital.gain       int64\n",
       "capital.loss       int64\n",
       "hours.per.week     int64\n",
       "High income        int64\n",
       "dtype: object"
      ]
     },
     "execution_count": 6,
     "metadata": {},
     "output_type": "execute_result"
    }
   ],
   "source": [
    "# Check for data types for each features\n",
    "df.dtypes"
   ]
  },
  {
   "cell_type": "code",
   "execution_count": 7,
   "id": "44d307b9",
   "metadata": {},
   "outputs": [
    {
     "data": {
      "text/plain": [
       "age               0\n",
       "workclass         0\n",
       "fnlwgt            0\n",
       "education         0\n",
       "education.num     0\n",
       "marital.status    0\n",
       "occupation        0\n",
       "relationship      0\n",
       "race              0\n",
       "sex               0\n",
       "capital.gain      0\n",
       "capital.loss      0\n",
       "hours.per.week    0\n",
       "High income       0\n",
       "dtype: int64"
      ]
     },
     "execution_count": 7,
     "metadata": {},
     "output_type": "execute_result"
    }
   ],
   "source": [
    "# Check if any null value in each features\n",
    "df.isnull().sum()"
   ]
  },
  {
   "cell_type": "code",
   "execution_count": 8,
   "id": "e2bb952f",
   "metadata": {},
   "outputs": [
    {
     "data": {
      "text/html": [
       "<div>\n",
       "<style scoped>\n",
       "    .dataframe tbody tr th:only-of-type {\n",
       "        vertical-align: middle;\n",
       "    }\n",
       "\n",
       "    .dataframe tbody tr th {\n",
       "        vertical-align: top;\n",
       "    }\n",
       "\n",
       "    .dataframe thead th {\n",
       "        text-align: right;\n",
       "    }\n",
       "</style>\n",
       "<table border=\"1\" class=\"dataframe\">\n",
       "  <thead>\n",
       "    <tr style=\"text-align: right;\">\n",
       "      <th></th>\n",
       "      <th>count</th>\n",
       "      <th>mean</th>\n",
       "      <th>std</th>\n",
       "      <th>min</th>\n",
       "      <th>25%</th>\n",
       "      <th>50%</th>\n",
       "      <th>75%</th>\n",
       "      <th>max</th>\n",
       "    </tr>\n",
       "  </thead>\n",
       "  <tbody>\n",
       "    <tr>\n",
       "      <th>age</th>\n",
       "      <td>32561.0</td>\n",
       "      <td>38.581647</td>\n",
       "      <td>13.640433</td>\n",
       "      <td>17.0</td>\n",
       "      <td>28.0</td>\n",
       "      <td>37.0</td>\n",
       "      <td>48.0</td>\n",
       "      <td>90.0</td>\n",
       "    </tr>\n",
       "    <tr>\n",
       "      <th>fnlwgt</th>\n",
       "      <td>32561.0</td>\n",
       "      <td>189778.366512</td>\n",
       "      <td>105549.977697</td>\n",
       "      <td>12285.0</td>\n",
       "      <td>117827.0</td>\n",
       "      <td>178356.0</td>\n",
       "      <td>237051.0</td>\n",
       "      <td>1484705.0</td>\n",
       "    </tr>\n",
       "    <tr>\n",
       "      <th>education.num</th>\n",
       "      <td>32561.0</td>\n",
       "      <td>10.080679</td>\n",
       "      <td>2.572720</td>\n",
       "      <td>1.0</td>\n",
       "      <td>9.0</td>\n",
       "      <td>10.0</td>\n",
       "      <td>12.0</td>\n",
       "      <td>16.0</td>\n",
       "    </tr>\n",
       "    <tr>\n",
       "      <th>capital.gain</th>\n",
       "      <td>32561.0</td>\n",
       "      <td>1077.648844</td>\n",
       "      <td>7385.292085</td>\n",
       "      <td>0.0</td>\n",
       "      <td>0.0</td>\n",
       "      <td>0.0</td>\n",
       "      <td>0.0</td>\n",
       "      <td>99999.0</td>\n",
       "    </tr>\n",
       "    <tr>\n",
       "      <th>capital.loss</th>\n",
       "      <td>32561.0</td>\n",
       "      <td>87.303830</td>\n",
       "      <td>402.960219</td>\n",
       "      <td>0.0</td>\n",
       "      <td>0.0</td>\n",
       "      <td>0.0</td>\n",
       "      <td>0.0</td>\n",
       "      <td>4356.0</td>\n",
       "    </tr>\n",
       "    <tr>\n",
       "      <th>hours.per.week</th>\n",
       "      <td>32561.0</td>\n",
       "      <td>40.437456</td>\n",
       "      <td>12.347429</td>\n",
       "      <td>1.0</td>\n",
       "      <td>40.0</td>\n",
       "      <td>40.0</td>\n",
       "      <td>45.0</td>\n",
       "      <td>99.0</td>\n",
       "    </tr>\n",
       "    <tr>\n",
       "      <th>High income</th>\n",
       "      <td>32561.0</td>\n",
       "      <td>0.240810</td>\n",
       "      <td>0.427581</td>\n",
       "      <td>0.0</td>\n",
       "      <td>0.0</td>\n",
       "      <td>0.0</td>\n",
       "      <td>0.0</td>\n",
       "      <td>1.0</td>\n",
       "    </tr>\n",
       "  </tbody>\n",
       "</table>\n",
       "</div>"
      ],
      "text/plain": [
       "                  count           mean            std      min       25%  \\\n",
       "age             32561.0      38.581647      13.640433     17.0      28.0   \n",
       "fnlwgt          32561.0  189778.366512  105549.977697  12285.0  117827.0   \n",
       "education.num   32561.0      10.080679       2.572720      1.0       9.0   \n",
       "capital.gain    32561.0    1077.648844    7385.292085      0.0       0.0   \n",
       "capital.loss    32561.0      87.303830     402.960219      0.0       0.0   \n",
       "hours.per.week  32561.0      40.437456      12.347429      1.0      40.0   \n",
       "High income     32561.0       0.240810       0.427581      0.0       0.0   \n",
       "\n",
       "                     50%       75%        max  \n",
       "age                 37.0      48.0       90.0  \n",
       "fnlwgt          178356.0  237051.0  1484705.0  \n",
       "education.num       10.0      12.0       16.0  \n",
       "capital.gain         0.0       0.0    99999.0  \n",
       "capital.loss         0.0       0.0     4356.0  \n",
       "hours.per.week      40.0      45.0       99.0  \n",
       "High income          0.0       0.0        1.0  "
      ]
     },
     "execution_count": 8,
     "metadata": {},
     "output_type": "execute_result"
    }
   ],
   "source": [
    "# let's get some understaning of data grid\n",
    "df.describe().T"
   ]
  },
  {
   "cell_type": "markdown",
   "id": "7eaad042",
   "metadata": {},
   "source": [
    "####  ***I observed that i have some invalid column data in data-grid. Let's find out the total counts of `?` mark data for each feature***"
   ]
  },
  {
   "cell_type": "code",
   "execution_count": 9,
   "id": "20a88b6b",
   "metadata": {},
   "outputs": [
    {
     "data": {
      "text/plain": [
       "Private             22696\n",
       "Self-emp-not-inc     2541\n",
       "Local-gov            2093\n",
       "?                    1836\n",
       "State-gov            1298\n",
       "Self-emp-inc         1116\n",
       "Federal-gov           960\n",
       "Without-pay            14\n",
       "Never-worked            7\n",
       "Name: workclass, dtype: int64"
      ]
     },
     "execution_count": 9,
     "metadata": {},
     "output_type": "execute_result"
    }
   ],
   "source": [
    "df['workclass'].value_counts()"
   ]
  },
  {
   "cell_type": "code",
   "execution_count": 10,
   "id": "8ed8a518",
   "metadata": {},
   "outputs": [
    {
     "data": {
      "text/plain": [
       "HS-grad         10501\n",
       "Some-college     7291\n",
       "Bachelors        5355\n",
       "Masters          1723\n",
       "Assoc-voc        1382\n",
       "11th             1175\n",
       "Assoc-acdm       1067\n",
       "10th              933\n",
       "7th-8th           646\n",
       "Prof-school       576\n",
       "9th               514\n",
       "12th              433\n",
       "Doctorate         413\n",
       "5th-6th           333\n",
       "1st-4th           168\n",
       "Preschool          51\n",
       "Name: education, dtype: int64"
      ]
     },
     "execution_count": 10,
     "metadata": {},
     "output_type": "execute_result"
    }
   ],
   "source": [
    "df['education'].value_counts()"
   ]
  },
  {
   "cell_type": "code",
   "execution_count": 11,
   "id": "4cce291b",
   "metadata": {},
   "outputs": [
    {
     "data": {
      "text/plain": [
       "Married-civ-spouse       14976\n",
       "Never-married            10683\n",
       "Divorced                  4443\n",
       "Separated                 1025\n",
       "Widowed                    993\n",
       "Married-spouse-absent      418\n",
       "Married-AF-spouse           23\n",
       "Name: marital.status, dtype: int64"
      ]
     },
     "execution_count": 11,
     "metadata": {},
     "output_type": "execute_result"
    }
   ],
   "source": [
    "df['marital.status'].value_counts()"
   ]
  },
  {
   "cell_type": "code",
   "execution_count": 12,
   "id": "c570da0d",
   "metadata": {},
   "outputs": [
    {
     "data": {
      "text/plain": [
       "Prof-specialty       4140\n",
       "Craft-repair         4099\n",
       "Exec-managerial      4066\n",
       "Adm-clerical         3770\n",
       "Sales                3650\n",
       "Other-service        3295\n",
       "Machine-op-inspct    2002\n",
       "?                    1843\n",
       "Transport-moving     1597\n",
       "Handlers-cleaners    1370\n",
       "Farming-fishing       994\n",
       "Tech-support          928\n",
       "Protective-serv       649\n",
       "Priv-house-serv       149\n",
       "Armed-Forces            9\n",
       "Name: occupation, dtype: int64"
      ]
     },
     "execution_count": 12,
     "metadata": {},
     "output_type": "execute_result"
    }
   ],
   "source": [
    "df['occupation'].value_counts()"
   ]
  },
  {
   "cell_type": "code",
   "execution_count": 13,
   "id": "77a8b486",
   "metadata": {},
   "outputs": [
    {
     "data": {
      "text/plain": [
       "Husband           13193\n",
       "Not-in-family      8305\n",
       "Own-child          5068\n",
       "Unmarried          3446\n",
       "Wife               1568\n",
       "Other-relative      981\n",
       "Name: relationship, dtype: int64"
      ]
     },
     "execution_count": 13,
     "metadata": {},
     "output_type": "execute_result"
    }
   ],
   "source": [
    "df['relationship'].value_counts()"
   ]
  },
  {
   "cell_type": "code",
   "execution_count": 14,
   "id": "d2baf5b6",
   "metadata": {},
   "outputs": [
    {
     "data": {
      "text/plain": [
       "White                 27816\n",
       "Black                  3124\n",
       "Asian-Pac-Islander     1039\n",
       "Amer-Indian-Eskimo      311\n",
       "Other                   271\n",
       "Name: race, dtype: int64"
      ]
     },
     "execution_count": 14,
     "metadata": {},
     "output_type": "execute_result"
    }
   ],
   "source": [
    "df['race'].value_counts()"
   ]
  },
  {
   "cell_type": "code",
   "execution_count": 15,
   "id": "4ef552a5",
   "metadata": {},
   "outputs": [
    {
     "data": {
      "text/plain": [
       "Male      21790\n",
       "Female    10771\n",
       "Name: sex, dtype: int64"
      ]
     },
     "execution_count": 15,
     "metadata": {},
     "output_type": "execute_result"
    }
   ],
   "source": [
    "df['sex'].value_counts()"
   ]
  },
  {
   "cell_type": "code",
   "execution_count": 16,
   "id": "ee0520b8",
   "metadata": {},
   "outputs": [
    {
     "data": {
      "text/plain": [
       "40    15217\n",
       "50     2819\n",
       "45     1824\n",
       "60     1475\n",
       "35     1297\n",
       "      ...  \n",
       "94        1\n",
       "82        1\n",
       "92        1\n",
       "87        1\n",
       "74        1\n",
       "Name: hours.per.week, Length: 94, dtype: int64"
      ]
     },
     "execution_count": 16,
     "metadata": {},
     "output_type": "execute_result"
    }
   ],
   "source": [
    "df['hours.per.week'].value_counts()"
   ]
  },
  {
   "cell_type": "code",
   "execution_count": 17,
   "id": "3f8a11bf",
   "metadata": {},
   "outputs": [
    {
     "data": {
      "text/plain": [
       "0    24720\n",
       "1     7841\n",
       "Name: High income, dtype: int64"
      ]
     },
     "execution_count": 17,
     "metadata": {},
     "output_type": "execute_result"
    }
   ],
   "source": [
    "df['High income'].value_counts()"
   ]
  },
  {
   "cell_type": "markdown",
   "id": "e91720e0",
   "metadata": {},
   "source": [
    "# Replace `?` values with Mode value in its self column"
   ]
  },
  {
   "cell_type": "code",
   "execution_count": 18,
   "id": "3322e2f2",
   "metadata": {},
   "outputs": [],
   "source": [
    "# So far there are 2 features column that are having ? marks as value [workclass, occupation].\n",
    "# I don't want to remove those value as their count is much higher and it would make our model bad prediction\n",
    "# Let's replace them with their mode value\n",
    "df['workclass'].replace('?', 'Private', inplace=True)\n",
    "df['occupation'].replace('?', 'Prof-specialty', inplace=True)"
   ]
  },
  {
   "cell_type": "code",
   "execution_count": 19,
   "id": "87723c32",
   "metadata": {},
   "outputs": [
    {
     "data": {
      "text/html": [
       "<div>\n",
       "<style scoped>\n",
       "    .dataframe tbody tr th:only-of-type {\n",
       "        vertical-align: middle;\n",
       "    }\n",
       "\n",
       "    .dataframe tbody tr th {\n",
       "        vertical-align: top;\n",
       "    }\n",
       "\n",
       "    .dataframe thead th {\n",
       "        text-align: right;\n",
       "    }\n",
       "</style>\n",
       "<table border=\"1\" class=\"dataframe\">\n",
       "  <thead>\n",
       "    <tr style=\"text-align: right;\">\n",
       "      <th></th>\n",
       "      <th>age</th>\n",
       "      <th>workclass</th>\n",
       "      <th>fnlwgt</th>\n",
       "      <th>education</th>\n",
       "      <th>education.num</th>\n",
       "      <th>marital.status</th>\n",
       "      <th>occupation</th>\n",
       "      <th>relationship</th>\n",
       "      <th>race</th>\n",
       "      <th>sex</th>\n",
       "      <th>capital.gain</th>\n",
       "      <th>capital.loss</th>\n",
       "      <th>hours.per.week</th>\n",
       "      <th>High income</th>\n",
       "    </tr>\n",
       "  </thead>\n",
       "  <tbody>\n",
       "    <tr>\n",
       "      <th>0</th>\n",
       "      <td>90</td>\n",
       "      <td>Private</td>\n",
       "      <td>77053</td>\n",
       "      <td>HS-grad</td>\n",
       "      <td>9</td>\n",
       "      <td>Widowed</td>\n",
       "      <td>Prof-specialty</td>\n",
       "      <td>Not-in-family</td>\n",
       "      <td>White</td>\n",
       "      <td>Female</td>\n",
       "      <td>0</td>\n",
       "      <td>4356</td>\n",
       "      <td>40</td>\n",
       "      <td>0</td>\n",
       "    </tr>\n",
       "    <tr>\n",
       "      <th>1</th>\n",
       "      <td>82</td>\n",
       "      <td>Private</td>\n",
       "      <td>132870</td>\n",
       "      <td>HS-grad</td>\n",
       "      <td>9</td>\n",
       "      <td>Widowed</td>\n",
       "      <td>Exec-managerial</td>\n",
       "      <td>Not-in-family</td>\n",
       "      <td>White</td>\n",
       "      <td>Female</td>\n",
       "      <td>0</td>\n",
       "      <td>4356</td>\n",
       "      <td>18</td>\n",
       "      <td>0</td>\n",
       "    </tr>\n",
       "    <tr>\n",
       "      <th>2</th>\n",
       "      <td>66</td>\n",
       "      <td>Private</td>\n",
       "      <td>186061</td>\n",
       "      <td>Some-college</td>\n",
       "      <td>10</td>\n",
       "      <td>Widowed</td>\n",
       "      <td>Prof-specialty</td>\n",
       "      <td>Unmarried</td>\n",
       "      <td>Black</td>\n",
       "      <td>Female</td>\n",
       "      <td>0</td>\n",
       "      <td>4356</td>\n",
       "      <td>40</td>\n",
       "      <td>0</td>\n",
       "    </tr>\n",
       "    <tr>\n",
       "      <th>3</th>\n",
       "      <td>54</td>\n",
       "      <td>Private</td>\n",
       "      <td>140359</td>\n",
       "      <td>7th-8th</td>\n",
       "      <td>4</td>\n",
       "      <td>Divorced</td>\n",
       "      <td>Machine-op-inspct</td>\n",
       "      <td>Unmarried</td>\n",
       "      <td>White</td>\n",
       "      <td>Female</td>\n",
       "      <td>0</td>\n",
       "      <td>3900</td>\n",
       "      <td>40</td>\n",
       "      <td>0</td>\n",
       "    </tr>\n",
       "    <tr>\n",
       "      <th>4</th>\n",
       "      <td>41</td>\n",
       "      <td>Private</td>\n",
       "      <td>264663</td>\n",
       "      <td>Some-college</td>\n",
       "      <td>10</td>\n",
       "      <td>Separated</td>\n",
       "      <td>Prof-specialty</td>\n",
       "      <td>Own-child</td>\n",
       "      <td>White</td>\n",
       "      <td>Female</td>\n",
       "      <td>0</td>\n",
       "      <td>3900</td>\n",
       "      <td>40</td>\n",
       "      <td>0</td>\n",
       "    </tr>\n",
       "    <tr>\n",
       "      <th>5</th>\n",
       "      <td>34</td>\n",
       "      <td>Private</td>\n",
       "      <td>216864</td>\n",
       "      <td>HS-grad</td>\n",
       "      <td>9</td>\n",
       "      <td>Divorced</td>\n",
       "      <td>Other-service</td>\n",
       "      <td>Unmarried</td>\n",
       "      <td>White</td>\n",
       "      <td>Female</td>\n",
       "      <td>0</td>\n",
       "      <td>3770</td>\n",
       "      <td>45</td>\n",
       "      <td>0</td>\n",
       "    </tr>\n",
       "    <tr>\n",
       "      <th>6</th>\n",
       "      <td>38</td>\n",
       "      <td>Private</td>\n",
       "      <td>150601</td>\n",
       "      <td>10th</td>\n",
       "      <td>6</td>\n",
       "      <td>Separated</td>\n",
       "      <td>Adm-clerical</td>\n",
       "      <td>Unmarried</td>\n",
       "      <td>White</td>\n",
       "      <td>Male</td>\n",
       "      <td>0</td>\n",
       "      <td>3770</td>\n",
       "      <td>40</td>\n",
       "      <td>0</td>\n",
       "    </tr>\n",
       "    <tr>\n",
       "      <th>7</th>\n",
       "      <td>74</td>\n",
       "      <td>State-gov</td>\n",
       "      <td>88638</td>\n",
       "      <td>Doctorate</td>\n",
       "      <td>16</td>\n",
       "      <td>Never-married</td>\n",
       "      <td>Prof-specialty</td>\n",
       "      <td>Other-relative</td>\n",
       "      <td>White</td>\n",
       "      <td>Female</td>\n",
       "      <td>0</td>\n",
       "      <td>3683</td>\n",
       "      <td>20</td>\n",
       "      <td>1</td>\n",
       "    </tr>\n",
       "    <tr>\n",
       "      <th>8</th>\n",
       "      <td>68</td>\n",
       "      <td>Federal-gov</td>\n",
       "      <td>422013</td>\n",
       "      <td>HS-grad</td>\n",
       "      <td>9</td>\n",
       "      <td>Divorced</td>\n",
       "      <td>Prof-specialty</td>\n",
       "      <td>Not-in-family</td>\n",
       "      <td>White</td>\n",
       "      <td>Female</td>\n",
       "      <td>0</td>\n",
       "      <td>3683</td>\n",
       "      <td>40</td>\n",
       "      <td>0</td>\n",
       "    </tr>\n",
       "    <tr>\n",
       "      <th>9</th>\n",
       "      <td>41</td>\n",
       "      <td>Private</td>\n",
       "      <td>70037</td>\n",
       "      <td>Some-college</td>\n",
       "      <td>10</td>\n",
       "      <td>Never-married</td>\n",
       "      <td>Craft-repair</td>\n",
       "      <td>Unmarried</td>\n",
       "      <td>White</td>\n",
       "      <td>Male</td>\n",
       "      <td>0</td>\n",
       "      <td>3004</td>\n",
       "      <td>60</td>\n",
       "      <td>1</td>\n",
       "    </tr>\n",
       "  </tbody>\n",
       "</table>\n",
       "</div>"
      ],
      "text/plain": [
       "   age    workclass  fnlwgt     education  education.num marital.status  \\\n",
       "0   90      Private   77053       HS-grad              9        Widowed   \n",
       "1   82      Private  132870       HS-grad              9        Widowed   \n",
       "2   66      Private  186061  Some-college             10        Widowed   \n",
       "3   54      Private  140359       7th-8th              4       Divorced   \n",
       "4   41      Private  264663  Some-college             10      Separated   \n",
       "5   34      Private  216864       HS-grad              9       Divorced   \n",
       "6   38      Private  150601          10th              6      Separated   \n",
       "7   74    State-gov   88638     Doctorate             16  Never-married   \n",
       "8   68  Federal-gov  422013       HS-grad              9       Divorced   \n",
       "9   41      Private   70037  Some-college             10  Never-married   \n",
       "\n",
       "          occupation    relationship   race     sex  capital.gain  \\\n",
       "0     Prof-specialty   Not-in-family  White  Female             0   \n",
       "1    Exec-managerial   Not-in-family  White  Female             0   \n",
       "2     Prof-specialty       Unmarried  Black  Female             0   \n",
       "3  Machine-op-inspct       Unmarried  White  Female             0   \n",
       "4     Prof-specialty       Own-child  White  Female             0   \n",
       "5      Other-service       Unmarried  White  Female             0   \n",
       "6       Adm-clerical       Unmarried  White    Male             0   \n",
       "7     Prof-specialty  Other-relative  White  Female             0   \n",
       "8     Prof-specialty   Not-in-family  White  Female             0   \n",
       "9       Craft-repair       Unmarried  White    Male             0   \n",
       "\n",
       "   capital.loss  hours.per.week  High income  \n",
       "0          4356              40            0  \n",
       "1          4356              18            0  \n",
       "2          4356              40            0  \n",
       "3          3900              40            0  \n",
       "4          3900              40            0  \n",
       "5          3770              45            0  \n",
       "6          3770              40            0  \n",
       "7          3683              20            1  \n",
       "8          3683              40            0  \n",
       "9          3004              60            1  "
      ]
     },
     "execution_count": 19,
     "metadata": {},
     "output_type": "execute_result"
    }
   ],
   "source": [
    "df.head(10)"
   ]
  },
  {
   "cell_type": "markdown",
   "id": "18d8e35f",
   "metadata": {},
   "source": [
    "# Feature Engineering"
   ]
  },
  {
   "cell_type": "code",
   "execution_count": 20,
   "id": "0694acf0",
   "metadata": {},
   "outputs": [],
   "source": [
    "# One more observation found in data that for object columns there are many redundant features/category. We have to do some\n",
    "# feature engineering for simplifing data\n",
    "\n",
    "# For education column there are 17 categories. let's simplify first that column\n",
    "df['education'].replace(['10th', '7th-8th', '9th', '5th-6th', '1st-4th', 'Preschool'], 'School', inplace=True)\n",
    "df['education'].replace(['Some-college', '12th', '11th','HS-grad'], 'College', inplace=True)\n",
    "df['education'].replace(['Assoc-voc', 'Assoc-acdm'], 'Prof-school', inplace=True)"
   ]
  },
  {
   "cell_type": "code",
   "execution_count": 21,
   "id": "b9663b0e",
   "metadata": {},
   "outputs": [
    {
     "data": {
      "text/plain": [
       "College        19400\n",
       "Bachelors       5355\n",
       "Prof-school     3025\n",
       "School          2645\n",
       "Masters         1723\n",
       "Doctorate        413\n",
       "Name: education, dtype: int64"
      ]
     },
     "execution_count": 21,
     "metadata": {},
     "output_type": "execute_result"
    }
   ],
   "source": [
    "df['education'].value_counts()"
   ]
  },
  {
   "cell_type": "code",
   "execution_count": 22,
   "id": "5aa625d6",
   "metadata": {},
   "outputs": [],
   "source": [
    "# For maretial status there are 7 types of category. Let's simplify that\n",
    "df['marital.status'].replace(['Married-civ-spouse', 'Married-spouse-absent', 'Married-AF-spouse'], 'Married', inplace=True)\n",
    "df['marital.status'].replace('Seperated', 'Divorced', inplace=True)\n",
    "df['marital.status'].replace('Never-married', 'Unmarried', inplace=True)\n",
    "df['marital.status'].replace(['Separated', 'Widowed'], 'Others', inplace=True)"
   ]
  },
  {
   "cell_type": "code",
   "execution_count": 23,
   "id": "92f2a401",
   "metadata": {
    "scrolled": true
   },
   "outputs": [
    {
     "data": {
      "text/plain": [
       "Married      15417\n",
       "Unmarried    10683\n",
       "Divorced      4443\n",
       "Others        2018\n",
       "Name: marital.status, dtype: int64"
      ]
     },
     "execution_count": 23,
     "metadata": {},
     "output_type": "execute_result"
    }
   ],
   "source": [
    "df['marital.status'].value_counts()"
   ]
  },
  {
   "cell_type": "code",
   "execution_count": 24,
   "id": "d75c22da",
   "metadata": {},
   "outputs": [],
   "source": [
    "df['race'].replace(['Asian-Pac-Islander', 'Amer-Indian-Eskimo'], 'Other', inplace=True)"
   ]
  },
  {
   "cell_type": "code",
   "execution_count": 25,
   "id": "e0ed561f",
   "metadata": {},
   "outputs": [
    {
     "data": {
      "text/html": [
       "<div>\n",
       "<style scoped>\n",
       "    .dataframe tbody tr th:only-of-type {\n",
       "        vertical-align: middle;\n",
       "    }\n",
       "\n",
       "    .dataframe tbody tr th {\n",
       "        vertical-align: top;\n",
       "    }\n",
       "\n",
       "    .dataframe thead th {\n",
       "        text-align: right;\n",
       "    }\n",
       "</style>\n",
       "<table border=\"1\" class=\"dataframe\">\n",
       "  <thead>\n",
       "    <tr style=\"text-align: right;\">\n",
       "      <th></th>\n",
       "      <th>age</th>\n",
       "      <th>workclass</th>\n",
       "      <th>fnlwgt</th>\n",
       "      <th>education</th>\n",
       "      <th>education.num</th>\n",
       "      <th>marital.status</th>\n",
       "      <th>occupation</th>\n",
       "      <th>relationship</th>\n",
       "      <th>race</th>\n",
       "      <th>sex</th>\n",
       "      <th>capital.gain</th>\n",
       "      <th>capital.loss</th>\n",
       "      <th>hours.per.week</th>\n",
       "      <th>High income</th>\n",
       "    </tr>\n",
       "  </thead>\n",
       "  <tbody>\n",
       "    <tr>\n",
       "      <th>0</th>\n",
       "      <td>90</td>\n",
       "      <td>Private</td>\n",
       "      <td>77053</td>\n",
       "      <td>College</td>\n",
       "      <td>9</td>\n",
       "      <td>Others</td>\n",
       "      <td>Prof-specialty</td>\n",
       "      <td>Not-in-family</td>\n",
       "      <td>White</td>\n",
       "      <td>Female</td>\n",
       "      <td>0</td>\n",
       "      <td>4356</td>\n",
       "      <td>40</td>\n",
       "      <td>0</td>\n",
       "    </tr>\n",
       "    <tr>\n",
       "      <th>1</th>\n",
       "      <td>82</td>\n",
       "      <td>Private</td>\n",
       "      <td>132870</td>\n",
       "      <td>College</td>\n",
       "      <td>9</td>\n",
       "      <td>Others</td>\n",
       "      <td>Exec-managerial</td>\n",
       "      <td>Not-in-family</td>\n",
       "      <td>White</td>\n",
       "      <td>Female</td>\n",
       "      <td>0</td>\n",
       "      <td>4356</td>\n",
       "      <td>18</td>\n",
       "      <td>0</td>\n",
       "    </tr>\n",
       "    <tr>\n",
       "      <th>2</th>\n",
       "      <td>66</td>\n",
       "      <td>Private</td>\n",
       "      <td>186061</td>\n",
       "      <td>College</td>\n",
       "      <td>10</td>\n",
       "      <td>Others</td>\n",
       "      <td>Prof-specialty</td>\n",
       "      <td>Unmarried</td>\n",
       "      <td>Black</td>\n",
       "      <td>Female</td>\n",
       "      <td>0</td>\n",
       "      <td>4356</td>\n",
       "      <td>40</td>\n",
       "      <td>0</td>\n",
       "    </tr>\n",
       "    <tr>\n",
       "      <th>3</th>\n",
       "      <td>54</td>\n",
       "      <td>Private</td>\n",
       "      <td>140359</td>\n",
       "      <td>School</td>\n",
       "      <td>4</td>\n",
       "      <td>Divorced</td>\n",
       "      <td>Machine-op-inspct</td>\n",
       "      <td>Unmarried</td>\n",
       "      <td>White</td>\n",
       "      <td>Female</td>\n",
       "      <td>0</td>\n",
       "      <td>3900</td>\n",
       "      <td>40</td>\n",
       "      <td>0</td>\n",
       "    </tr>\n",
       "    <tr>\n",
       "      <th>4</th>\n",
       "      <td>41</td>\n",
       "      <td>Private</td>\n",
       "      <td>264663</td>\n",
       "      <td>College</td>\n",
       "      <td>10</td>\n",
       "      <td>Others</td>\n",
       "      <td>Prof-specialty</td>\n",
       "      <td>Own-child</td>\n",
       "      <td>White</td>\n",
       "      <td>Female</td>\n",
       "      <td>0</td>\n",
       "      <td>3900</td>\n",
       "      <td>40</td>\n",
       "      <td>0</td>\n",
       "    </tr>\n",
       "  </tbody>\n",
       "</table>\n",
       "</div>"
      ],
      "text/plain": [
       "   age workclass  fnlwgt education  education.num marital.status  \\\n",
       "0   90   Private   77053   College              9         Others   \n",
       "1   82   Private  132870   College              9         Others   \n",
       "2   66   Private  186061   College             10         Others   \n",
       "3   54   Private  140359    School              4       Divorced   \n",
       "4   41   Private  264663   College             10         Others   \n",
       "\n",
       "          occupation   relationship   race     sex  capital.gain  \\\n",
       "0     Prof-specialty  Not-in-family  White  Female             0   \n",
       "1    Exec-managerial  Not-in-family  White  Female             0   \n",
       "2     Prof-specialty      Unmarried  Black  Female             0   \n",
       "3  Machine-op-inspct      Unmarried  White  Female             0   \n",
       "4     Prof-specialty      Own-child  White  Female             0   \n",
       "\n",
       "   capital.loss  hours.per.week  High income  \n",
       "0          4356              40            0  \n",
       "1          4356              18            0  \n",
       "2          4356              40            0  \n",
       "3          3900              40            0  \n",
       "4          3900              40            0  "
      ]
     },
     "execution_count": 25,
     "metadata": {},
     "output_type": "execute_result"
    }
   ],
   "source": [
    "df.head()"
   ]
  },
  {
   "cell_type": "markdown",
   "id": "39a154c0",
   "metadata": {},
   "source": [
    "# Exploratory Data Analysis (Post Phase)"
   ]
  },
  {
   "cell_type": "code",
   "execution_count": 26,
   "id": "a74c8b03",
   "metadata": {},
   "outputs": [
    {
     "data": {
      "image/png": "[encoded data removed]",
      "text/plain": [
       "<Figure size 864x864 with 8 Axes>"
      ]
     },
     "metadata": {
      "needs_background": "light"
     },
     "output_type": "display_data"
    }
   ],
   "source": [
    "# Exploratory Data Analysis (Pre Phase)# Histogram and density graphs of all variables(numerics) were accessed.\n",
    "df.hist(figsize=(12,12), layout=(4,2),);"
   ]
  },
  {
   "cell_type": "markdown",
   "id": "16a4142d",
   "metadata": {},
   "source": [
    "### Correlation Matrix Diagram"
   ]
  },
  {
   "cell_type": "code",
   "execution_count": 27,
   "id": "207d68f6",
   "metadata": {},
   "outputs": [
    {
     "data": {
      "image/png": "[encoded data removed]",
      "text/plain": [
       "<Figure size 1440x1080 with 2 Axes>"
      ]
     },
     "metadata": {
      "needs_background": "light"
     },
     "output_type": "display_data"
    }
   ],
   "source": [
    "# Correlation matrix graph of the data set\n",
    "f, ax = plt.subplots(figsize= [20,15])\n",
    "sns.heatmap(df.corr(), annot=True, fmt=\".2f\", ax=ax, cmap = \"magma\" )\n",
    "ax.set_title(\"Correlation Matrix\", fontsize=20)\n",
    "plt.show()"
   ]
  },
  {
   "cell_type": "code",
   "execution_count": 28,
   "id": "1e73fde1",
   "metadata": {},
   "outputs": [
    {
     "data": {
      "text/html": [
       "<div>\n",
       "<style scoped>\n",
       "    .dataframe tbody tr th:only-of-type {\n",
       "        vertical-align: middle;\n",
       "    }\n",
       "\n",
       "    .dataframe tbody tr th {\n",
       "        vertical-align: top;\n",
       "    }\n",
       "\n",
       "    .dataframe thead th {\n",
       "        text-align: right;\n",
       "    }\n",
       "</style>\n",
       "<table border=\"1\" class=\"dataframe\">\n",
       "  <thead>\n",
       "    <tr style=\"text-align: right;\">\n",
       "      <th></th>\n",
       "      <th>age</th>\n",
       "      <th>fnlwgt</th>\n",
       "      <th>education.num</th>\n",
       "      <th>capital.gain</th>\n",
       "      <th>capital.loss</th>\n",
       "      <th>hours.per.week</th>\n",
       "      <th>High income</th>\n",
       "    </tr>\n",
       "  </thead>\n",
       "  <tbody>\n",
       "    <tr>\n",
       "      <th>age</th>\n",
       "      <td>1.000000</td>\n",
       "      <td>-0.076646</td>\n",
       "      <td>0.036527</td>\n",
       "      <td>0.077674</td>\n",
       "      <td>0.057775</td>\n",
       "      <td>0.068756</td>\n",
       "      <td>0.234037</td>\n",
       "    </tr>\n",
       "    <tr>\n",
       "      <th>fnlwgt</th>\n",
       "      <td>-0.076646</td>\n",
       "      <td>1.000000</td>\n",
       "      <td>-0.043195</td>\n",
       "      <td>0.000432</td>\n",
       "      <td>-0.010252</td>\n",
       "      <td>-0.018768</td>\n",
       "      <td>-0.009463</td>\n",
       "    </tr>\n",
       "    <tr>\n",
       "      <th>education.num</th>\n",
       "      <td>0.036527</td>\n",
       "      <td>-0.043195</td>\n",
       "      <td>1.000000</td>\n",
       "      <td>0.122630</td>\n",
       "      <td>0.079923</td>\n",
       "      <td>0.148123</td>\n",
       "      <td>0.335154</td>\n",
       "    </tr>\n",
       "    <tr>\n",
       "      <th>capital.gain</th>\n",
       "      <td>0.077674</td>\n",
       "      <td>0.000432</td>\n",
       "      <td>0.122630</td>\n",
       "      <td>1.000000</td>\n",
       "      <td>-0.031615</td>\n",
       "      <td>0.078409</td>\n",
       "      <td>0.223329</td>\n",
       "    </tr>\n",
       "    <tr>\n",
       "      <th>capital.loss</th>\n",
       "      <td>0.057775</td>\n",
       "      <td>-0.010252</td>\n",
       "      <td>0.079923</td>\n",
       "      <td>-0.031615</td>\n",
       "      <td>1.000000</td>\n",
       "      <td>0.054256</td>\n",
       "      <td>0.150526</td>\n",
       "    </tr>\n",
       "    <tr>\n",
       "      <th>hours.per.week</th>\n",
       "      <td>0.068756</td>\n",
       "      <td>-0.018768</td>\n",
       "      <td>0.148123</td>\n",
       "      <td>0.078409</td>\n",
       "      <td>0.054256</td>\n",
       "      <td>1.000000</td>\n",
       "      <td>0.229689</td>\n",
       "    </tr>\n",
       "    <tr>\n",
       "      <th>High income</th>\n",
       "      <td>0.234037</td>\n",
       "      <td>-0.009463</td>\n",
       "      <td>0.335154</td>\n",
       "      <td>0.223329</td>\n",
       "      <td>0.150526</td>\n",
       "      <td>0.229689</td>\n",
       "      <td>1.000000</td>\n",
       "    </tr>\n",
       "  </tbody>\n",
       "</table>\n",
       "</div>"
      ],
      "text/plain": [
       "                     age    fnlwgt  education.num  capital.gain  capital.loss  \\\n",
       "age             1.000000 -0.076646       0.036527      0.077674      0.057775   \n",
       "fnlwgt         -0.076646  1.000000      -0.043195      0.000432     -0.010252   \n",
       "education.num   0.036527 -0.043195       1.000000      0.122630      0.079923   \n",
       "capital.gain    0.077674  0.000432       0.122630      1.000000     -0.031615   \n",
       "capital.loss    0.057775 -0.010252       0.079923     -0.031615      1.000000   \n",
       "hours.per.week  0.068756 -0.018768       0.148123      0.078409      0.054256   \n",
       "High income     0.234037 -0.009463       0.335154      0.223329      0.150526   \n",
       "\n",
       "                hours.per.week  High income  \n",
       "age                   0.068756     0.234037  \n",
       "fnlwgt               -0.018768    -0.009463  \n",
       "education.num         0.148123     0.335154  \n",
       "capital.gain          0.078409     0.223329  \n",
       "capital.loss          0.054256     0.150526  \n",
       "hours.per.week        1.000000     0.229689  \n",
       "High income           0.229689     1.000000  "
      ]
     },
     "execution_count": 28,
     "metadata": {},
     "output_type": "execute_result"
    }
   ],
   "source": [
    "df.corr()"
   ]
  },
  {
   "cell_type": "markdown",
   "id": "45ea32a6",
   "metadata": {},
   "source": [
    "### Distribution Pie Chart of High Income"
   ]
  },
  {
   "cell_type": "code",
   "execution_count": 29,
   "id": "667046e0",
   "metadata": {},
   "outputs": [
    {
     "data": {
      "image/png": "[encoded data removed]",
      "text/plain": [
       "<Figure size 1296x576 with 2 Axes>"
      ]
     },
     "metadata": {
      "needs_background": "light"
     },
     "output_type": "display_data"
    }
   ],
   "source": [
    "# The distribution of the High income variable in the data examined and visualized.\n",
    "f,ax=plt.subplots(1,2,figsize=(18,8))\n",
    "df['High income'].value_counts().plot.pie(explode=[0,0.1],autopct='%1.1f%%',ax=ax[0],shadow=True)\n",
    "ax[0].set_title('target')\n",
    "ax[0].set_ylabel('')\n",
    "sns.countplot(x='High income',data=df,ax=ax[1])\n",
    "ax[1].set_title('High income')\n",
    "plt.show()"
   ]
  },
  {
   "cell_type": "markdown",
   "id": "ce9b3daf",
   "metadata": {},
   "source": [
    "### High Income Count Plot Against Marital Status"
   ]
  },
  {
   "cell_type": "code",
   "execution_count": 30,
   "id": "c894519c",
   "metadata": {},
   "outputs": [
    {
     "data": {
      "image/png": "[encoded data removed]",
      "text/plain": [
       "<Figure size 432x288 with 1 Axes>"
      ]
     },
     "metadata": {
      "needs_background": "light"
     },
     "output_type": "display_data"
    }
   ],
   "source": [
    "sns.countplot(x=df['marital.status'],hue='High income', data=df, palette='magma');"
   ]
  },
  {
   "cell_type": "markdown",
   "id": "6cd38740",
   "metadata": {},
   "source": [
    "### High Income Plot against Sex"
   ]
  },
  {
   "cell_type": "code",
   "execution_count": 31,
   "id": "a1592404",
   "metadata": {},
   "outputs": [
    {
     "data": {
      "image/png": "[encoded data removed]",
      "text/plain": [
       "<Figure size 432x288 with 1 Axes>"
      ]
     },
     "metadata": {
      "needs_background": "light"
     },
     "output_type": "display_data"
    }
   ],
   "source": [
    "sns.countplot(x=df['sex'],hue='High income', data=df, palette='magma');"
   ]
  },
  {
   "cell_type": "markdown",
   "id": "ebac89f6",
   "metadata": {},
   "source": [
    "### High Income Plot against Race"
   ]
  },
  {
   "cell_type": "code",
   "execution_count": 32,
   "id": "50c44396",
   "metadata": {},
   "outputs": [
    {
     "data": {
      "image/png": "[encoded data removed]",
      "text/plain": [
       "<Figure size 432x288 with 1 Axes>"
      ]
     },
     "metadata": {
      "needs_background": "light"
     },
     "output_type": "display_data"
    }
   ],
   "source": [
    "sns.countplot(x=df['race'],hue='High income', data=df, palette='magma');"
   ]
  },
  {
   "cell_type": "markdown",
   "id": "544f3ca9",
   "metadata": {},
   "source": [
    "### High Income Plot against Education"
   ]
  },
  {
   "cell_type": "code",
   "execution_count": 33,
   "id": "1a1540f5",
   "metadata": {},
   "outputs": [
    {
     "data": {
      "image/png": "[encoded data removed]",
      "text/plain": [
       "<Figure size 432x288 with 1 Axes>"
      ]
     },
     "metadata": {
      "needs_background": "light"
     },
     "output_type": "display_data"
    }
   ],
   "source": [
    "sns.countplot(x=df['education'],hue='High income', data=df, palette='seismic');"
   ]
  },
  {
   "cell_type": "markdown",
   "id": "2ae0ad14",
   "metadata": {},
   "source": [
    "# Encoding(Using `LabelEncoder`)"
   ]
  },
  {
   "cell_type": "code",
   "execution_count": 34,
   "id": "bc60cdac",
   "metadata": {},
   "outputs": [],
   "source": [
    "from sklearn.preprocessing import LabelEncoder\n",
    "encoded_df = df.copy()\n",
    "encoded_df = encoded_df.apply(LabelEncoder().fit_transform)"
   ]
  },
  {
   "cell_type": "code",
   "execution_count": 35,
   "id": "eddc3d7f",
   "metadata": {},
   "outputs": [
    {
     "data": {
      "text/html": [
       "<div>\n",
       "<style scoped>\n",
       "    .dataframe tbody tr th:only-of-type {\n",
       "        vertical-align: middle;\n",
       "    }\n",
       "\n",
       "    .dataframe tbody tr th {\n",
       "        vertical-align: top;\n",
       "    }\n",
       "\n",
       "    .dataframe thead th {\n",
       "        text-align: right;\n",
       "    }\n",
       "</style>\n",
       "<table border=\"1\" class=\"dataframe\">\n",
       "  <thead>\n",
       "    <tr style=\"text-align: right;\">\n",
       "      <th></th>\n",
       "      <th>age</th>\n",
       "      <th>workclass</th>\n",
       "      <th>fnlwgt</th>\n",
       "      <th>education</th>\n",
       "      <th>education.num</th>\n",
       "      <th>marital.status</th>\n",
       "      <th>occupation</th>\n",
       "      <th>relationship</th>\n",
       "      <th>race</th>\n",
       "      <th>sex</th>\n",
       "      <th>capital.gain</th>\n",
       "      <th>capital.loss</th>\n",
       "      <th>hours.per.week</th>\n",
       "      <th>High income</th>\n",
       "    </tr>\n",
       "  </thead>\n",
       "  <tbody>\n",
       "    <tr>\n",
       "      <th>0</th>\n",
       "      <td>72</td>\n",
       "      <td>3</td>\n",
       "      <td>2649</td>\n",
       "      <td>1</td>\n",
       "      <td>8</td>\n",
       "      <td>2</td>\n",
       "      <td>9</td>\n",
       "      <td>1</td>\n",
       "      <td>2</td>\n",
       "      <td>0</td>\n",
       "      <td>0</td>\n",
       "      <td>91</td>\n",
       "      <td>39</td>\n",
       "      <td>0</td>\n",
       "    </tr>\n",
       "    <tr>\n",
       "      <th>1</th>\n",
       "      <td>65</td>\n",
       "      <td>3</td>\n",
       "      <td>6514</td>\n",
       "      <td>1</td>\n",
       "      <td>8</td>\n",
       "      <td>2</td>\n",
       "      <td>3</td>\n",
       "      <td>1</td>\n",
       "      <td>2</td>\n",
       "      <td>0</td>\n",
       "      <td>0</td>\n",
       "      <td>91</td>\n",
       "      <td>17</td>\n",
       "      <td>0</td>\n",
       "    </tr>\n",
       "    <tr>\n",
       "      <th>2</th>\n",
       "      <td>49</td>\n",
       "      <td>3</td>\n",
       "      <td>11175</td>\n",
       "      <td>1</td>\n",
       "      <td>9</td>\n",
       "      <td>2</td>\n",
       "      <td>9</td>\n",
       "      <td>4</td>\n",
       "      <td>0</td>\n",
       "      <td>0</td>\n",
       "      <td>0</td>\n",
       "      <td>91</td>\n",
       "      <td>39</td>\n",
       "      <td>0</td>\n",
       "    </tr>\n",
       "    <tr>\n",
       "      <th>3</th>\n",
       "      <td>37</td>\n",
       "      <td>3</td>\n",
       "      <td>7009</td>\n",
       "      <td>5</td>\n",
       "      <td>3</td>\n",
       "      <td>0</td>\n",
       "      <td>6</td>\n",
       "      <td>4</td>\n",
       "      <td>2</td>\n",
       "      <td>0</td>\n",
       "      <td>0</td>\n",
       "      <td>90</td>\n",
       "      <td>39</td>\n",
       "      <td>0</td>\n",
       "    </tr>\n",
       "    <tr>\n",
       "      <th>4</th>\n",
       "      <td>24</td>\n",
       "      <td>3</td>\n",
       "      <td>16850</td>\n",
       "      <td>1</td>\n",
       "      <td>9</td>\n",
       "      <td>2</td>\n",
       "      <td>9</td>\n",
       "      <td>3</td>\n",
       "      <td>2</td>\n",
       "      <td>0</td>\n",
       "      <td>0</td>\n",
       "      <td>90</td>\n",
       "      <td>39</td>\n",
       "      <td>0</td>\n",
       "    </tr>\n",
       "  </tbody>\n",
       "</table>\n",
       "</div>"
      ],
      "text/plain": [
       "   age  workclass  fnlwgt  education  education.num  marital.status  \\\n",
       "0   72          3    2649          1              8               2   \n",
       "1   65          3    6514          1              8               2   \n",
       "2   49          3   11175          1              9               2   \n",
       "3   37          3    7009          5              3               0   \n",
       "4   24          3   16850          1              9               2   \n",
       "\n",
       "   occupation  relationship  race  sex  capital.gain  capital.loss  \\\n",
       "0           9             1     2    0             0            91   \n",
       "1           3             1     2    0             0            91   \n",
       "2           9             4     0    0             0            91   \n",
       "3           6             4     2    0             0            90   \n",
       "4           9             3     2    0             0            90   \n",
       "\n",
       "   hours.per.week  High income  \n",
       "0              39            0  \n",
       "1              17            0  \n",
       "2              39            0  \n",
       "3              39            0  \n",
       "4              39            0  "
      ]
     },
     "execution_count": 35,
     "metadata": {},
     "output_type": "execute_result"
    }
   ],
   "source": [
    "encoded_df.head(5)"
   ]
  },
  {
   "cell_type": "code",
   "execution_count": 36,
   "id": "32a87cc0",
   "metadata": {},
   "outputs": [
    {
     "name": "stdout",
     "output_type": "stream",
     "text": [
      "<class 'pandas.core.frame.DataFrame'>\n",
      "RangeIndex: 32561 entries, 0 to 32560\n",
      "Data columns (total 14 columns):\n",
      " #   Column          Non-Null Count  Dtype\n",
      "---  ------          --------------  -----\n",
      " 0   age             32561 non-null  int64\n",
      " 1   workclass       32561 non-null  int32\n",
      " 2   fnlwgt          32561 non-null  int64\n",
      " 3   education       32561 non-null  int32\n",
      " 4   education.num   32561 non-null  int64\n",
      " 5   marital.status  32561 non-null  int32\n",
      " 6   occupation      32561 non-null  int32\n",
      " 7   relationship    32561 non-null  int32\n",
      " 8   race            32561 non-null  int32\n",
      " 9   sex             32561 non-null  int32\n",
      " 10  capital.gain    32561 non-null  int64\n",
      " 11  capital.loss    32561 non-null  int64\n",
      " 12  hours.per.week  32561 non-null  int64\n",
      " 13  High income     32561 non-null  int64\n",
      "dtypes: int32(7), int64(7)\n",
      "memory usage: 2.6 MB\n"
     ]
    }
   ],
   "source": [
    "encoded_df.info()"
   ]
  },
  {
   "cell_type": "markdown",
   "id": "2fd49ff5",
   "metadata": {},
   "source": [
    "# Preprocessing (Using `sklearn.preprocessing.StandardScaler`)"
   ]
  },
  {
   "cell_type": "code",
   "execution_count": 37,
   "id": "25a23da1",
   "metadata": {},
   "outputs": [],
   "source": [
    "from sklearn.preprocessing import StandardScaler\n",
    "from sklearn.metrics import accuracy_score, confusion_matrix, classification_report\n",
    "from numpy import ndarray\n",
    "\n",
    "AREA_OF_TRAIN = encoded_df.drop(['High income'], axis=1)\n",
    "\n",
    "ss = StandardScaler().fit(AREA_OF_TRAIN)\n",
    "X = ss.transform(AREA_OF_TRAIN) # returning numpy.ndarray\n",
    "y = df['High income']"
   ]
  },
  {
   "cell_type": "markdown",
   "id": "d38e2bfd",
   "metadata": {},
   "source": [
    "### Splitting Data"
   ]
  },
  {
   "cell_type": "code",
   "execution_count": 38,
   "id": "b7974c83",
   "metadata": {},
   "outputs": [],
   "source": [
    "from sklearn.model_selection import train_test_split\n",
    "\n",
    "\n",
    "TEST_SIZE = 0.3 # 70/30 \n",
    "\n",
    "X_train, X_test, y_train, y_test = train_test_split(X, y, test_size=TEST_SIZE, random_state=30)"
   ]
  },
  {
   "cell_type": "markdown",
   "id": "74259ec5",
   "metadata": {},
   "source": [
    "# Classifier Models"
   ]
  },
  {
   "cell_type": "code",
   "execution_count": 39,
   "id": "d8f4c223",
   "metadata": {},
   "outputs": [],
   "source": [
    "#### Common Utility Function Required Later\n",
    "\n",
    "### IMPORTS FOR ALL MODELS HERE:\n",
    "from sklearn.metrics import accuracy_score, confusion_matrix, classification_report\n",
    "from numpy import ndarray\n",
    "\n",
    "\n",
    "def get_confusion_mt_values(matrix: ndarray) -> dict:\n",
    "    try:\n",
    "        tn = matrix[0][0]\n",
    "        tp = matrix[1][1]\n",
    "        fn = matrix[1][0]\n",
    "        fp = matrix[0][1]\n",
    "        return {\"tp\": tp, \"tn\": tn, \"fp\": fp, \"fn\": fn}\n",
    "    except Exception as e:\n",
    "        return e\n",
    "    \n",
    "def get_plotly_fig_cm(cm_values: dict) -> None:\n",
    "    fig = go.Figure(data=[go.Pie(labels=['True Positive','True Negative','False Positive','False Negative'],\n",
    "                             values=[v for k,v in cm_values.items()])])\n",
    "    fig.update(layout_title_text=\"Confusion Matrix Evaluation:\")\n",
    "    fig.update_traces(hoverinfo='label+percent', textinfo='value', textfont_size=14,insidetextorientation='radial',\n",
    "                      marker=dict(colors=colors, line=dict(color='#000000', width=2)))\n",
    "    fig.show()\n",
    "    fig.write_image(\"fig1.jpg\")\n",
    "\n",
    "def get_pie_chart_cm(cm_values: dict) -> None:\n",
    "    labels=['True Positive','True Negative','False Positive','False Negative']\n",
    "    colors = sns.color_palette('bright')[0:5]\n",
    "    values = [v for k, v in cm_values.items()]\n",
    "    #create pie chart\n",
    "    plt.pie(values, labels = labels, colors = colors, autopct='%.0f%%')\n",
    "    plt.show()"
   ]
  },
  {
   "cell_type": "markdown",
   "id": "f87626a5",
   "metadata": {},
   "source": [
    "## RandomForestClassifier Model"
   ]
  },
  {
   "cell_type": "code",
   "execution_count": 40,
   "id": "6325d28e",
   "metadata": {},
   "outputs": [
    {
     "name": "stdout",
     "output_type": "stream",
     "text": [
      "Max-Depth : 1   ||   Accuracy : 0.775104923738356\n",
      "Max-Depth : 2   ||   Accuracy : 0.8031528303818201\n",
      "Max-Depth : 3   ||   Accuracy : 0.8309960077797113\n",
      "Max-Depth : 4   ||   Accuracy : 0.8428703040229297\n",
      "Max-Depth : 5   ||   Accuracy : 0.8474767120483161\n",
      "Max-Depth : 6   ||   Accuracy : 0.8534138601699253\n",
      "Max-Depth : 7   ||   Accuracy : 0.8537209540382844\n",
      "Max-Depth : 8   ||   Accuracy : 0.8533114955471389\n",
      "Max-Depth : 9   ||   Accuracy : 0.8550516941345071\n",
      "Max-Depth : 10   ||   Accuracy : 0.8567918927218753\n",
      "Max-Depth : 11   ||   Accuracy : 0.8580202681953117\n",
      "Max-Depth : 12   ||   Accuracy : 0.8566895280990889\n",
      "Max-Depth : 13   ||   Accuracy : 0.8584297266864571\n",
      "Max-Depth : 14   ||   Accuracy : 0.8598628314054663\n",
      "Max-Depth : 15   ||   Accuracy : 0.8608864776333299\n",
      "Max-Depth : 16   ||   Accuracy : 0.8615006653700481\n",
      "Max-Depth : 17   ||   Accuracy : 0.8607841130105436\n",
      "Max-Depth : 18   ||   Accuracy : 0.8608864776333299\n",
      "Max-Depth : 19   ||   Accuracy : 0.8618077592384072\n"
     ]
    }
   ],
   "source": [
    "### Search for tuned max_depth [RandomForestClassifier Model]\n",
    "from sklearn.ensemble import RandomForestClassifier\n",
    "for max_depth in range(1,20):\n",
    "    rfc = RandomForestClassifier(criterion='gini',max_depth=max_depth)\n",
    "    rfc = rfc.fit(X_train, y_train)\n",
    "    rfc_prediction = rfc.predict(X_test)\n",
    "    accuracy = accuracy_score(y_test, rfc_prediction)\n",
    "    print(f\"Max-Depth : {max_depth}   ||   Accuracy : {accuracy}\")\n",
    "    "
   ]
  },
  {
   "cell_type": "code",
   "execution_count": 41,
   "id": "0b4b1074",
   "metadata": {},
   "outputs": [],
   "source": [
    "from sklearn.ensemble import RandomForestClassifier\n",
    "rfc = RandomForestClassifier(criterion='gini',max_depth=17)\n",
    "rfc = rfc.fit(X_train, y_train)\n",
    "rfc_prediction = rfc.predict(X_test)"
   ]
  },
  {
   "cell_type": "code",
   "execution_count": 42,
   "id": "27400f5a",
   "metadata": {
    "scrolled": false
   },
   "outputs": [
    {
     "name": "stdout",
     "output_type": "stream",
     "text": [
      "TP => 1457\n",
      "\n",
      "TN => 6972\n",
      "\n",
      "FP => 410\n",
      "\n",
      "FN => 930\n",
      "\n",
      "Classification Report -->                precision    recall  f1-score   support\n",
      "\n",
      "           0    0.88231   0.94446   0.91233      7382\n",
      "           1    0.78040   0.61039   0.68500      2387\n",
      "\n",
      "    accuracy                        0.86283      9769\n",
      "   macro avg    0.83135   0.77742   0.79866      9769\n",
      "weighted avg    0.85741   0.86283   0.85678      9769\n",
      "\n",
      "Accuracy Found --> 0.8628314054662709\n",
      "\n",
      "Precision(R0) --> 0.9444594960715254\n",
      "\n",
      "Precision(R1) --> 0.7803963577932512\n",
      "\n",
      "Recall (R0) --> 0.9444594960715254\n",
      "\n",
      "Recall (R1) --> 0.6103896103896104\n",
      "\n"
     ]
    },
    {
     "data": {
      "image/png": "[encoded data removed]",
      "text/plain": [
       "<Figure size 432x288 with 2 Axes>"
      ]
     },
     "metadata": {},
     "output_type": "display_data"
    }
   ],
   "source": [
    "cm = confusion_matrix(y_test,rfc_prediction)\n",
    "accuracy = accuracy_score(y_test, rfc_prediction)\n",
    "cr = classification_report(y_test, rfc_prediction, digits=5)\n",
    "\n",
    "\n",
    "\n",
    "y_true=[\"0\", \"1\"]\n",
    "    \n",
    "fmt_cm = get_confusion_mt_values(cm)\n",
    "\n",
    "\n",
    "for k, v in fmt_cm.items():\n",
    "    print(f\"{k.upper()} => {v}\")\n",
    "    print()\n",
    "\n",
    "print(\"Classification Report --> \", cr)\n",
    "print(f\"Accuracy Found --> {accuracy}\\n\")    \n",
    "print(f\"Precision(R0) --> {fmt_cm.get('tn')/(fmt_cm.get('tn')+fmt_cm.get('fp'))}\\n\") # Precision0 = tn/tn+fp\n",
    "print(f\"Precision(R1) --> {fmt_cm.get('tp')/(fmt_cm.get('tp')+fmt_cm.get('fp'))}\\n\") # Precision1 = tp/tp+fn\n",
    "print(f\"Recall (R0) --> {fmt_cm.get('tn')/(fmt_cm.get('tn')+fmt_cm.get('fp'))}\\n\") # recall0 = tn/tn+fp\n",
    "print(f\"Recall (R1) --> {fmt_cm.get('tp')/(fmt_cm.get('tp')+fmt_cm.get('fn'))}\\n\") # recall1 = tp/tp+fn\n",
    "\n",
    "df_cm = pd.DataFrame(cm, columns=np.unique(y_true), index=np.unique(y_true))\n",
    "\n",
    "# seaborn Confusion matrix plot\n",
    "sns.set(font_scale=2)\n",
    "sns.heatmap(data=df_cm, cmap=\"Blues\", annot=True, annot_kws={\"size\": 24}, fmt=\"d\")\n",
    "plt.savefig('Cm.pdf', format='pdf', dpi=300)\n",
    "plt.savefig('Cm.png', format='png', dpi=300)"
   ]
  },
  {
   "cell_type": "code",
   "execution_count": 43,
   "id": "4dd17ec2",
   "metadata": {},
   "outputs": [
    {
     "data": {
      "image/png": "[encoded data removed]",
      "text/plain": [
       "<Figure size 432x288 with 1 Axes>"
      ]
     },
     "metadata": {},
     "output_type": "display_data"
    }
   ],
   "source": [
    "# Pie Chart Confution Matrix Figure\n",
    "get_pie_chart_cm(fmt_cm)"
   ]
  },
  {
   "cell_type": "markdown",
   "id": "5ef80a9f",
   "metadata": {},
   "source": [
    "## Logistic Regression Model"
   ]
  },
  {
   "cell_type": "code",
   "execution_count": 44,
   "id": "a52fb1de",
   "metadata": {},
   "outputs": [
    {
     "name": "stdout",
     "output_type": "stream",
     "text": [
      "Accuracy : 0.8232162964479476\n"
     ]
    }
   ],
   "source": [
    "from sklearn.linear_model import LogisticRegression\n",
    "\n",
    "lr = LogisticRegression()\n",
    "lr = lr.fit(X_train, y_train)\n",
    "lr_prediction = lr.predict(X_test)\n",
    "\n",
    "accuracy = accuracy_score(y_test, lr_prediction)\n",
    "print(f\"Accuracy : {accuracy}\")"
   ]
  },
  {
   "cell_type": "code",
   "execution_count": 45,
   "id": "f240dccf",
   "metadata": {},
   "outputs": [
    {
     "name": "stdout",
     "output_type": "stream",
     "text": [
      "TP => 1122\n",
      "\n",
      "TN => 6920\n",
      "\n",
      "FP => 462\n",
      "\n",
      "FN => 1265\n",
      "\n",
      "Classification Report -->                precision    recall  f1-score   support\n",
      "\n",
      "           0    0.84545   0.93742   0.88906      7382\n",
      "           1    0.70833   0.47005   0.56510      2387\n",
      "\n",
      "    accuracy                        0.82322      9769\n",
      "   macro avg    0.77689   0.70373   0.72708      9769\n",
      "weighted avg    0.81195   0.82322   0.80990      9769\n",
      "\n",
      "Accuracy Found --> 0.8232162964479476\n",
      "\n",
      "Precision(R0) --> 0.93741533459767\n",
      "\n",
      "Precision(R1) --> 0.7083333333333334\n",
      "\n",
      "Recall (R0) --> 0.93741533459767\n",
      "\n",
      "Recall (R1) --> 0.4700460829493088\n",
      "\n"
     ]
    },
    {
     "data": {
      "image/png": "[encoded data removed]",
      "text/plain": [
       "<Figure size 432x288 with 2 Axes>"
      ]
     },
     "metadata": {},
     "output_type": "display_data"
    }
   ],
   "source": [
    "cm = confusion_matrix(y_test,lr_prediction)\n",
    "accuracy = accuracy_score(y_test, lr_prediction)\n",
    "cr = classification_report(y_test, lr_prediction, digits=5)\n",
    "\n",
    "\n",
    "\n",
    "y_true=[\"0\", \"1\"]\n",
    "    \n",
    "fmt_cm = get_confusion_mt_values(cm)\n",
    "\n",
    "\n",
    "for k, v in fmt_cm.items():\n",
    "    print(f\"{k.upper()} => {v}\")\n",
    "    print()\n",
    "\n",
    "print(\"Classification Report --> \", cr)\n",
    "print(f\"Accuracy Found --> {accuracy}\\n\")    \n",
    "print(f\"Precision(R0) --> {fmt_cm.get('tn')/(fmt_cm.get('tn')+fmt_cm.get('fp'))}\\n\") # Precision0 = tn/tn+fp\n",
    "print(f\"Precision(R1) --> {fmt_cm.get('tp')/(fmt_cm.get('tp')+fmt_cm.get('fp'))}\\n\") # Precision1 = tp/tp+fn\n",
    "print(f\"Recall (R0) --> {fmt_cm.get('tn')/(fmt_cm.get('tn')+fmt_cm.get('fp'))}\\n\") # recall0 = tn/tn+fp\n",
    "print(f\"Recall (R1) --> {fmt_cm.get('tp')/(fmt_cm.get('tp')+fmt_cm.get('fn'))}\\n\") # recall1 = tp/tp+fn\n",
    "\n",
    "df_cm = pd.DataFrame(cm, columns=np.unique(y_true), index=np.unique(y_true))\n",
    "\n",
    "# seaborn Confusion matrix plot\n",
    "sns.set(font_scale=2)\n",
    "sns.heatmap(data=df_cm, cmap=\"Blues\", annot=True, annot_kws={\"size\": 24}, fmt=\"d\")\n",
    "plt.savefig('Cm.pdf', format='pdf', dpi=300)\n",
    "plt.savefig('Cm.png', format='png', dpi=300)"
   ]
  },
  {
   "cell_type": "code",
   "execution_count": 46,
   "id": "e09eaf9c",
   "metadata": {},
   "outputs": [
    {
     "data": {
      "image/png": "[encoded data removed]",
      "text/plain": [
       "<Figure size 432x288 with 1 Axes>"
      ]
     },
     "metadata": {},
     "output_type": "display_data"
    }
   ],
   "source": [
    "# Pie Chart Confution Matrix Figure\n",
    "get_pie_chart_cm(fmt_cm)"
   ]
  },
  {
   "cell_type": "markdown",
   "id": "29372025",
   "metadata": {},
   "source": [
    "## DecisionTree Classifier Model"
   ]
  },
  {
   "cell_type": "code",
   "execution_count": 47,
   "id": "2afef1e6",
   "metadata": {},
   "outputs": [
    {
     "name": "stdout",
     "output_type": "stream",
     "text": [
      "Max-Depth : 1   ||   Accuracy : 0.7556556454089467\n",
      "Max-Depth : 2   ||   Accuracy : 0.8238304841846658\n",
      "Max-Depth : 3   ||   Accuracy : 0.8385709898659024\n",
      "Max-Depth : 4   ||   Accuracy : 0.8418466577950661\n",
      "Max-Depth : 5   ||   Accuracy : 0.8451223257242297\n",
      "Max-Depth : 6   ||   Accuracy : 0.8428703040229297\n",
      "Max-Depth : 7   ||   Accuracy : 0.8483979936533934\n",
      "Max-Depth : 8   ||   Accuracy : 0.8489098167673252\n",
      "Max-Depth : 9   ||   Accuracy : 0.8517760262053434\n",
      "Max-Depth : 10   ||   Accuracy : 0.8502405568635479\n",
      "Max-Depth : 11   ||   Accuracy : 0.8491145460128979\n",
      "Max-Depth : 12   ||   Accuracy : 0.8485003582761798\n",
      "Max-Depth : 13   ||   Accuracy : 0.847169618179957\n",
      "Max-Depth : 14   ||   Accuracy : 0.8427679394001433\n",
      "Max-Depth : 15   ||   Accuracy : 0.8372402497696796\n",
      "Max-Depth : 16   ||   Accuracy : 0.8342716757088751\n",
      "Max-Depth : 17   ||   Accuracy : 0.8348858634455932\n",
      "Max-Depth : 18   ||   Accuracy : 0.8325314771215068\n",
      "Max-Depth : 19   ||   Accuracy : 0.8310983724024977\n"
     ]
    }
   ],
   "source": [
    "### Search for tuned max_depth [DecisionTree Classifier Model]\n",
    "from sklearn.tree import DecisionTreeClassifier\n",
    "\n",
    "for max_depth in range(1,20):\n",
    "    dt = DecisionTreeClassifier(criterion='entropy',max_depth=max_depth)\n",
    "    dt = dt.fit(X_train, y_train)\n",
    "    dt_prediction = dt.predict(X_test)\n",
    "    accuracy = accuracy_score(y_test, dt_prediction)\n",
    "    print(f\"Max-Depth : {max_depth}   ||   Accuracy : {accuracy}\")"
   ]
  },
  {
   "cell_type": "code",
   "execution_count": 48,
   "id": "2470d996",
   "metadata": {},
   "outputs": [],
   "source": [
    "dt = DecisionTreeClassifier(criterion='gini',max_depth=9)\n",
    "dt = dt.fit(X_train, y_train)\n",
    "dt_prediction = dt.predict(X_test)"
   ]
  },
  {
   "cell_type": "code",
   "execution_count": 49,
   "id": "f3b3d5ef",
   "metadata": {},
   "outputs": [
    {
     "name": "stdout",
     "output_type": "stream",
     "text": [
      "TP => 1302\n",
      "\n",
      "TN => 7007\n",
      "\n",
      "FP => 375\n",
      "\n",
      "FN => 1085\n",
      "\n",
      "Classification Report -->                precision    recall  f1-score   support\n",
      "\n",
      "           0    0.86592   0.94920   0.90565      7382\n",
      "           1    0.77639   0.54545   0.64075      2387\n",
      "\n",
      "    accuracy                        0.85055      9769\n",
      "   macro avg    0.82115   0.74733   0.77320      9769\n",
      "weighted avg    0.84404   0.85055   0.84092      9769\n",
      "\n",
      "Accuracy Found --> 0.8505476507319071\n",
      "\n",
      "Precision(R0) --> 0.9492007586020049\n",
      "\n",
      "Precision(R1) --> 0.776386404293381\n",
      "\n",
      "Recall (R0) --> 0.9492007586020049\n",
      "\n",
      "Recall (R1) --> 0.5454545454545454\n",
      "\n"
     ]
    },
    {
     "data": {
      "image/png": "[encoded data removed]",
      "text/plain": [
       "<Figure size 432x288 with 2 Axes>"
      ]
     },
     "metadata": {},
     "output_type": "display_data"
    }
   ],
   "source": [
    "cm = confusion_matrix(y_test,dt_prediction)\n",
    "accuracy = accuracy_score(y_test, dt_prediction)\n",
    "cr = classification_report(y_test, dt_prediction, digits=5)\n",
    "\n",
    "\n",
    "\n",
    "y_true=[\"0\", \"1\"]\n",
    "    \n",
    "fmt_cm = get_confusion_mt_values(cm)\n",
    "\n",
    "\n",
    "for k, v in fmt_cm.items():\n",
    "    print(f\"{k.upper()} => {v}\")\n",
    "    print()\n",
    "\n",
    "print(\"Classification Report --> \", cr)\n",
    "print(f\"Accuracy Found --> {accuracy}\\n\")    \n",
    "print(f\"Precision(R0) --> {fmt_cm.get('tn')/(fmt_cm.get('tn')+fmt_cm.get('fp'))}\\n\") # Precision0 = tn/tn+fp\n",
    "print(f\"Precision(R1) --> {fmt_cm.get('tp')/(fmt_cm.get('tp')+fmt_cm.get('fp'))}\\n\") # Precision1 = tp/tp+fn\n",
    "print(f\"Recall (R0) --> {fmt_cm.get('tn')/(fmt_cm.get('tn')+fmt_cm.get('fp'))}\\n\") # recall0 = tn/tn+fp\n",
    "print(f\"Recall (R1) --> {fmt_cm.get('tp')/(fmt_cm.get('tp')+fmt_cm.get('fn'))}\\n\") # recall1 = tp/tp+fn\n",
    "\n",
    "df_cm = pd.DataFrame(cm, columns=np.unique(y_true), index=np.unique(y_true))\n",
    "\n",
    "# seaborn Confusion matrix plot\n",
    "sns.set(font_scale=2)\n",
    "sns.heatmap(data=df_cm, cmap=\"Blues\", annot=True, annot_kws={\"size\": 24}, fmt=\"d\")\n",
    "plt.savefig('Cm.pdf', format='pdf', dpi=300)\n",
    "plt.savefig('Cm.png', format='png', dpi=300)"
   ]
  },
  {
   "cell_type": "code",
   "execution_count": 50,
   "id": "aaaa7dfc",
   "metadata": {},
   "outputs": [
    {
     "data": {
      "image/png": "[encoded data removed]",
      "text/plain": [
       "<Figure size 432x288 with 1 Axes>"
      ]
     },
     "metadata": {},
     "output_type": "display_data"
    }
   ],
   "source": [
    "# Pie Chart Confution Matrix Figure\n",
    "get_pie_chart_cm(fmt_cm)"
   ]
  },
  {
   "cell_type": "markdown",
   "id": "862a626a",
   "metadata": {},
   "source": [
    "## GaussianNB Classifier Model"
   ]
  },
  {
   "cell_type": "code",
   "execution_count": 51,
   "id": "637febb7",
   "metadata": {},
   "outputs": [],
   "source": [
    "from sklearn.naive_bayes import GaussianNB"
   ]
  },
  {
   "cell_type": "code",
   "execution_count": 52,
   "id": "9398913a",
   "metadata": {},
   "outputs": [],
   "source": [
    "gnb = GaussianNB()\n",
    "gnb = dt.fit(X_train, y_train)\n",
    "gnb_prediction = gnb.predict(X_test)"
   ]
  },
  {
   "cell_type": "code",
   "execution_count": 53,
   "id": "abdb95ae",
   "metadata": {},
   "outputs": [
    {
     "name": "stdout",
     "output_type": "stream",
     "text": [
      "TP => 1306\n",
      "\n",
      "TN => 6997\n",
      "\n",
      "FP => 385\n",
      "\n",
      "FN => 1081\n",
      "\n",
      "Classification Report -->                precision    recall  f1-score   support\n",
      "\n",
      "           0    0.86618   0.94785   0.90517      7382\n",
      "           1    0.77232   0.54713   0.64051      2387\n",
      "\n",
      "    accuracy                        0.84993      9769\n",
      "   macro avg    0.81925   0.74749   0.77284      9769\n",
      "weighted avg    0.84325   0.84993   0.84051      9769\n",
      "\n",
      "Accuracy Found --> 0.8499334629951889\n",
      "\n",
      "Precision(R0) --> 0.947846112164725\n",
      "\n",
      "Precision(R1) --> 0.7723240685984625\n",
      "\n",
      "Recall (R0) --> 0.947846112164725\n",
      "\n",
      "Recall (R1) --> 0.547130289065773\n",
      "\n"
     ]
    },
    {
     "data": {
      "image/png": "[encoded data removed]",
      "text/plain": [
       "<Figure size 432x288 with 2 Axes>"
      ]
     },
     "metadata": {},
     "output_type": "display_data"
    }
   ],
   "source": [
    "cm = confusion_matrix(y_test,gnb_prediction)\n",
    "accuracy = accuracy_score(y_test, gnb_prediction)\n",
    "cr = classification_report(y_test, gnb_prediction, digits=5)\n",
    "\n",
    "\n",
    "\n",
    "y_true=[\"0\", \"1\"]\n",
    "    \n",
    "fmt_cm = get_confusion_mt_values(cm)\n",
    "\n",
    "\n",
    "for k, v in fmt_cm.items():\n",
    "    print(f\"{k.upper()} => {v}\")\n",
    "    print()\n",
    "\n",
    "print(\"Classification Report --> \", cr)\n",
    "print(f\"Accuracy Found --> {accuracy}\\n\")    \n",
    "print(f\"Precision(R0) --> {fmt_cm.get('tn')/(fmt_cm.get('tn')+fmt_cm.get('fp'))}\\n\") # Precision0 = tn/tn+fp\n",
    "print(f\"Precision(R1) --> {fmt_cm.get('tp')/(fmt_cm.get('tp')+fmt_cm.get('fp'))}\\n\") # Precision1 = tp/tp+fn\n",
    "print(f\"Recall (R0) --> {fmt_cm.get('tn')/(fmt_cm.get('tn')+fmt_cm.get('fp'))}\\n\") # recall0 = tn/tn+fp\n",
    "print(f\"Recall (R1) --> {fmt_cm.get('tp')/(fmt_cm.get('tp')+fmt_cm.get('fn'))}\\n\") # recall1 = tp/tp+fn\n",
    "\n",
    "df_cm = pd.DataFrame(cm, columns=np.unique(y_true), index=np.unique(y_true))\n",
    "\n",
    "# seaborn Confusion matrix plot\n",
    "sns.set(font_scale=2)\n",
    "sns.heatmap(data=df_cm, cmap=\"Blues\", annot=True, annot_kws={\"size\": 24}, fmt=\"d\")\n",
    "plt.savefig('Cm.pdf', format='pdf', dpi=300)\n",
    "plt.savefig('Cm.png', format='png', dpi=300)"
   ]
  },
  {
   "cell_type": "code",
   "execution_count": 54,
   "id": "e15d0ece",
   "metadata": {},
   "outputs": [
    {
     "data": {
      "image/png": "[encoded data removed]",
      "text/plain": [
       "<Figure size 432x288 with 1 Axes>"
      ]
     },
     "metadata": {},
     "output_type": "display_data"
    }
   ],
   "source": [
    "# Pie Chart Confution Matrix Figure\n",
    "get_pie_chart_cm(fmt_cm)"
   ]
  },
  {
   "cell_type": "markdown",
   "id": "beffc554",
   "metadata": {},
   "source": [
    "## SVM Classifier Model"
   ]
  },
  {
   "cell_type": "markdown",
   "id": "d09d3817",
   "metadata": {},
   "source": [
    "### SVM With  polynomial Kernel"
   ]
  },
  {
   "cell_type": "code",
   "execution_count": 55,
   "id": "4b08b02d",
   "metadata": {},
   "outputs": [],
   "source": [
    "from sklearn.svm import SVC\n",
    "\n",
    "svc_ploy = SVC(kernel='poly')\n",
    "svc_ploy.fit(X_train, y_train)\n",
    "svc_prediction = svc_ploy.predict(X_test)"
   ]
  },
  {
   "cell_type": "code",
   "execution_count": 56,
   "id": "17dc44b6",
   "metadata": {},
   "outputs": [
    {
     "name": "stdout",
     "output_type": "stream",
     "text": [
      "TP => 1254\n",
      "\n",
      "TN => 6982\n",
      "\n",
      "FP => 400\n",
      "\n",
      "FN => 1133\n",
      "\n",
      "Classification Report -->                precision    recall  f1-score   support\n",
      "\n",
      "           0    0.86038   0.94581   0.90108      7382\n",
      "           1    0.75816   0.52535   0.62064      2387\n",
      "\n",
      "    accuracy                        0.84308      9769\n",
      "   macro avg    0.80927   0.73558   0.76086      9769\n",
      "weighted avg    0.83541   0.84308   0.83255      9769\n",
      "\n",
      "Accuracy Found --> 0.8430750332685024\n",
      "\n",
      "Precision(R0) --> 0.9458141425088052\n",
      "\n",
      "Precision(R1) --> 0.7581620314389359\n",
      "\n",
      "Recall (R0) --> 0.9458141425088052\n",
      "\n",
      "Recall (R1) --> 0.5253456221198156\n",
      "\n"
     ]
    },
    {
     "data": {
      "image/png": "[encoded data removed]",
      "text/plain": [
       "<Figure size 432x288 with 2 Axes>"
      ]
     },
     "metadata": {},
     "output_type": "display_data"
    }
   ],
   "source": [
    "cm = confusion_matrix(y_test,svc_prediction)\n",
    "accuracy = accuracy_score(y_test, svc_prediction)\n",
    "cr = classification_report(y_test, svc_prediction, digits=5)\n",
    "\n",
    "\n",
    "\n",
    "y_true=[\"0\", \"1\"]\n",
    "    \n",
    "fmt_cm = get_confusion_mt_values(cm)\n",
    "\n",
    "\n",
    "for k, v in fmt_cm.items():\n",
    "    print(f\"{k.upper()} => {v}\")\n",
    "    print()\n",
    "\n",
    "print(\"Classification Report --> \", cr)\n",
    "print(f\"Accuracy Found --> {accuracy}\\n\")    \n",
    "print(f\"Precision(R0) --> {fmt_cm.get('tn')/(fmt_cm.get('tn')+fmt_cm.get('fp'))}\\n\") # Precision0 = tn/tn+fp\n",
    "print(f\"Precision(R1) --> {fmt_cm.get('tp')/(fmt_cm.get('tp')+fmt_cm.get('fp'))}\\n\") # Precision1 = tp/tp+fn\n",
    "print(f\"Recall (R0) --> {fmt_cm.get('tn')/(fmt_cm.get('tn')+fmt_cm.get('fp'))}\\n\") # recall0 = tn/tn+fp\n",
    "print(f\"Recall (R1) --> {fmt_cm.get('tp')/(fmt_cm.get('tp')+fmt_cm.get('fn'))}\\n\") # recall1 = tp/tp+fn\n",
    "\n",
    "df_cm = pd.DataFrame(cm, columns=np.unique(y_true), index=np.unique(y_true))\n",
    "\n",
    "# seaborn Confusion matrix plot\n",
    "sns.set(font_scale=2)\n",
    "sns.heatmap(data=df_cm, cmap=\"Blues\", annot=True, annot_kws={\"size\": 24}, fmt=\"d\")\n",
    "plt.savefig('Cm.pdf', format='pdf', dpi=300)\n",
    "plt.savefig('Cm.png', format='png', dpi=300)"
   ]
  },
  {
   "cell_type": "code",
   "execution_count": 57,
   "id": "83a394c2",
   "metadata": {},
   "outputs": [
    {
     "data": {
      "image/png": "[encoded data removed]",
      "text/plain": [
       "<Figure size 432x288 with 1 Axes>"
      ]
     },
     "metadata": {},
     "output_type": "display_data"
    }
   ],
   "source": [
    "# Pie Chart Confution Matrix Figure\n",
    "get_pie_chart_cm(fmt_cm)"
   ]
  },
  {
   "cell_type": "markdown",
   "id": "83583b89",
   "metadata": {},
   "source": [
    "### SVM With rbf kernel"
   ]
  },
  {
   "cell_type": "code",
   "execution_count": 58,
   "id": "5122e4b3",
   "metadata": {},
   "outputs": [],
   "source": [
    "svc_rbf = SVC(kernel='rbf')\n",
    "svc_rbf.fit(X_train, y_train)\n",
    "svc_rbf_prediction = svc_rbf.predict(X_test)"
   ]
  },
  {
   "cell_type": "code",
   "execution_count": 59,
   "id": "b8cd6ec7",
   "metadata": {},
   "outputs": [
    {
     "name": "stdout",
     "output_type": "stream",
     "text": [
      "TP => 1254\n",
      "\n",
      "TN => 6982\n",
      "\n",
      "FP => 400\n",
      "\n",
      "FN => 1133\n",
      "\n",
      "Classification Report -->                precision    recall  f1-score   support\n",
      "\n",
      "           0    0.86322   0.94812   0.90368      7382\n",
      "           1    0.76942   0.53540   0.63142      2387\n",
      "\n",
      "    accuracy                        0.84727      9769\n",
      "   macro avg    0.81632   0.74176   0.76755      9769\n",
      "weighted avg    0.84030   0.84727   0.83716      9769\n",
      "\n",
      "Accuracy Found --> 0.8472719828027434\n",
      "\n",
      "Precision(R0) --> 0.9458141425088052\n",
      "\n",
      "Precision(R1) --> 0.7581620314389359\n",
      "\n",
      "Recall (R0) --> 0.9458141425088052\n",
      "\n",
      "Recall (R1) --> 0.5253456221198156\n",
      "\n"
     ]
    },
    {
     "data": {
      "image/png": "[encoded data removed]",
      "text/plain": [
       "<Figure size 432x288 with 2 Axes>"
      ]
     },
     "metadata": {},
     "output_type": "display_data"
    }
   ],
   "source": [
    "cm = confusion_matrix(y_test,svc_prediction)\n",
    "accuracy = accuracy_score(y_test, svc_rbf_prediction)\n",
    "cr = classification_report(y_test, svc_rbf_prediction, digits=5)\n",
    "\n",
    "\n",
    "\n",
    "y_true=[\"0\", \"1\"]\n",
    "    \n",
    "fmt_cm = get_confusion_mt_values(cm)\n",
    "\n",
    "\n",
    "for k, v in fmt_cm.items():\n",
    "    print(f\"{k.upper()} => {v}\")\n",
    "    print()\n",
    "\n",
    "print(\"Classification Report --> \", cr)\n",
    "print(f\"Accuracy Found --> {accuracy}\\n\")    \n",
    "print(f\"Precision(R0) --> {fmt_cm.get('tn')/(fmt_cm.get('tn')+fmt_cm.get('fp'))}\\n\") # Precision0 = tn/tn+fp\n",
    "print(f\"Precision(R1) --> {fmt_cm.get('tp')/(fmt_cm.get('tp')+fmt_cm.get('fp'))}\\n\") # Precision1 = tp/tp+fn\n",
    "print(f\"Recall (R0) --> {fmt_cm.get('tn')/(fmt_cm.get('tn')+fmt_cm.get('fp'))}\\n\") # recall0 = tn/tn+fp\n",
    "print(f\"Recall (R1) --> {fmt_cm.get('tp')/(fmt_cm.get('tp')+fmt_cm.get('fn'))}\\n\") # recall1 = tp/tp+fn\n",
    "\n",
    "df_cm = pd.DataFrame(cm, columns=np.unique(y_true), index=np.unique(y_true))\n",
    "\n",
    "# seaborn Confusion matrix plot\n",
    "sns.set(font_scale=2)\n",
    "sns.heatmap(data=df_cm, cmap=\"Blues\", annot=True, annot_kws={\"size\": 24}, fmt=\"d\")\n",
    "plt.savefig('Cm.pdf', format='pdf', dpi=300)\n",
    "plt.savefig('Cm.png', format='png', dpi=300)"
   ]
  },
  {
   "cell_type": "code",
   "execution_count": 60,
   "id": "7f06d4fc",
   "metadata": {},
   "outputs": [
    {
     "data": {
      "image/png": "[encoded data removed]",
      "text/plain": [
       "<Figure size 432x288 with 1 Axes>"
      ]
     },
     "metadata": {},
     "output_type": "display_data"
    }
   ],
   "source": [
    "# Pie Chart Confution Matrix Figure\n",
    "get_pie_chart_cm(fmt_cm)"
   ]
  },
  {
   "cell_type": "markdown",
   "id": "4116ff23",
   "metadata": {},
   "source": [
    "# Validation of all base models"
   ]
  },
  {
   "cell_type": "code",
   "execution_count": 61,
   "id": "4573c733",
   "metadata": {},
   "outputs": [],
   "source": [
    "from sklearn.linear_model import LogisticRegression\n",
    "from sklearn.neighbors import KNeighborsClassifier\n",
    "from sklearn.tree import DecisionTreeClassifier\n",
    "from sklearn.ensemble import RandomForestClassifier, GradientBoostingClassifier\n",
    "from sklearn.svm import SVC\n",
    "from lightgbm import LGBMClassifier\n",
    "from sklearn.model_selection import KFold, cross_val_score\n",
    "\n",
    "models = []\n",
    "results = []\n",
    "names = []"
   ]
  },
  {
   "cell_type": "markdown",
   "id": "350fbb77",
   "metadata": {},
   "source": [
    "## Append all the base models to the models list"
   ]
  },
  {
   "cell_type": "code",
   "execution_count": 62,
   "id": "2393776c",
   "metadata": {},
   "outputs": [],
   "source": [
    "models.append(('LR', LogisticRegression(random_state = 40)))\n",
    "models.append(('KNN', KNeighborsClassifier()))\n",
    "models.append(('CART', DecisionTreeClassifier(criterion='gini',max_depth=9, random_state = 40)))\n",
    "models.append(('RF', RandomForestClassifier(random_state = 40, max_features = 7, min_samples_split = 2, n_estimators = 500)))\n",
    "models.append(('SVM', SVC(gamma='auto', random_state = 40)))\n",
    "models.append(('XGB', GradientBoostingClassifier(random_state = 40, learning_rate = 0.1, max_depth = 5, min_samples_split = 0.1, n_estimators = 100, subsample = 1.0)))\n",
    "models.append((\"LightGBM\", LGBMClassifier(random_state = 40, learning_rate = 0.01,  max_depth = 3, n_estimators = 1000)))"
   ]
  },
  {
   "cell_type": "markdown",
   "id": "7a80bf65",
   "metadata": {},
   "source": [
    "## Evaluate each model in turn"
   ]
  },
  {
   "cell_type": "code",
   "execution_count": 63,
   "id": "9fdde728",
   "metadata": {
    "scrolled": false
   },
   "outputs": [
    {
     "name": "stdout",
     "output_type": "stream",
     "text": [
      "LR\t==> \tMean: 0.805\tSTD: 0.086\n",
      "KNN\t==> \tMean: 0.811\tSTD: 0.052\n",
      "CART\t==> \tMean: 0.806\tSTD: 0.064\n",
      "RF\t==> \tMean: 0.806\tSTD: 0.074\n",
      "SVM\t==> \tMean: 0.806\tSTD: 0.101\n",
      "XGB\t==> \tMean: 0.809\tSTD: 0.074\n",
      "LightGBM\t==> \tMean: 0.799\tSTD: 0.084\n"
     ]
    }
   ],
   "source": [
    "for name, model in models:\n",
    "        kfold = KFold(n_splits = 10)\n",
    "        cv_results = cross_val_score(model, X, y, cv = 10, scoring= \"accuracy\")\n",
    "        results.append(cv_results)\n",
    "        names.append(name)\n",
    "        msg = f\"{name}\\t==> \\tMean: {cv_results.mean():.3f}\\tSTD: {cv_results.std():.3f}\"\n",
    "        print(msg)"
   ]
  },
  {
   "cell_type": "markdown",
   "id": "e0b0b740",
   "metadata": {},
   "source": [
    "# Comparison Boxchart for all models accuracy"
   ]
  },
  {
   "cell_type": "code",
   "execution_count": 69,
   "id": "71f0cb4b",
   "metadata": {},
   "outputs": [
    {
     "data": {
      "image/png": "[encoded data removed]",
      "text/plain": [
       "<Figure size 1080x576 with 1 Axes>"
      ]
     },
     "metadata": {},
     "output_type": "display_data"
    }
   ],
   "source": [
    "sns.set_style(\"darkgrid\")\n",
    "sns.set(rc = {'figure.figsize':(15,8)})\n",
    "colors = ['#78C850', '#F08030', '#6890F0','#F8D030', '#F85888', '#705898', '#98D8D8']\n",
    "\n",
    "param = {'fontsize': 20,\n",
    "        'color':'indigo'}\n",
    "\n",
    "g = sns.boxplot(data=results, palette=colors)\n",
    "g.set_title(\"Comparison Of Models\", fontdict=param)\n",
    "g.set_xticks(range(len(results)))\n",
    "g.set_xticklabels(names);\n",
    "g.set_xlabel(\"Algorithm Models\", fontsize = 16);\n",
    "g.set_ylabel(\"Accuracy\", fontsize = 16);"
   ]
  },
  {
   "cell_type": "markdown",
   "id": "932b1d71",
   "metadata": {},
   "source": [
    "# Reporting"
   ]
  },
  {
   "cell_type": "markdown",
   "id": "5849119d",
   "metadata": {},
   "source": [
    "The aim of this study was to create classification models for the highest salaried data set and to predict whether a person is able to get high salary by establishing models and to obtain maximum validation scores in the established models. The work done is as follows:\n",
    "\n",
    "1) adult Data Set read.\n",
    "\n",
    "2) With Exploratory Data Analysis; The data set's structural data were checked. The types of variables in the dataset were examined. Size information of the dataset was accessed. The ? values in the data set are missing values. Primarily these 0 values were replaced with the mode value of their column.\n",
    "\n",
    "3) Data Preprocessing section; df for: The ? values missing observations were filled with the mode values of that column highest mode. The X variables were standardized with the StandardScaler method..\n",
    "\n",
    "4) During Model Building; Logistic Regression, KNN, SVM, CART, Random Forests, LightGBM like using machine learning models Cross Validation Score were calculated. Later Random Forests, LightGBM hyperparameter optimizations optimized to increase Cross Validation value.\n",
    "\n",
    "5) **_Result: The model created as a result of XGB-GradientBoostingClassifier became the model with the lowest Cross Validation Score value. (0.85)_**"
   ]
  }
 ],
 "metadata": {
  "kernelspec": {
   "display_name": "Python 3 (ipykernel)",
   "language": "python",
   "name": "python3"
  },
  "language_info": {
   "codemirror_mode": {
    "name": "ipython",
    "version": 3
   },
   "file_extension": ".py",
   "mimetype": "text/x-python",
   "name": "python",
   "nbconvert_exporter": "python",
   "pygments_lexer": "ipython3",
   "version": "3.10.0"
  },
  "widgets": {
   "application/vnd.jupyter.widget-state+json": {
    "state": {},
    "version_major": 2,
    "version_minor": 0
   }
  }
 },
 "nbformat": 4,
 "nbformat_minor": 5
}
